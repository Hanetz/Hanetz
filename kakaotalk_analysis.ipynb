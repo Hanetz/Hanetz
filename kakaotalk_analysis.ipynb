{
  "nbformat": 4,
  "nbformat_minor": 0,
  "metadata": {
    "colab": {
      "name": "kakaotalk analysis.ipynb",
      "provenance": [],
      "collapsed_sections": [],
      "authorship_tag": "ABX9TyP/dN2nzzTc1GrdwQPfsvvl"
    },
    "kernelspec": {
      "name": "python3",
      "display_name": "Python 3"
    },
    "language_info": {
      "name": "python"
    }
  },
  "cells": [
    {
      "cell_type": "code",
      "metadata": {
        "colab": {
          "base_uri": "https://localhost:8080/"
        },
        "id": "2Q1MmuLkYpVa",
        "outputId": "172be36f-0644-4c66-fb08-b4f4019ed3a4"
      },
      "source": [
        "!sudo apt-get install -y fonts-nanum\n",
        "!sudo fc-cache -fv\n",
        "!rm ~/.cache/matplotlib -rf"
      ],
      "execution_count": null,
      "outputs": [
        {
          "output_type": "stream",
          "name": "stdout",
          "text": [
            "Reading package lists... Done\n",
            "Building dependency tree       \n",
            "Reading state information... Done\n",
            "fonts-nanum is already the newest version (20170925-1).\n",
            "0 upgraded, 0 newly installed, 0 to remove and 37 not upgraded.\n",
            "/usr/share/fonts: caching, new cache contents: 0 fonts, 1 dirs\n",
            "/usr/share/fonts/truetype: caching, new cache contents: 0 fonts, 3 dirs\n",
            "/usr/share/fonts/truetype/humor-sans: caching, new cache contents: 1 fonts, 0 dirs\n",
            "/usr/share/fonts/truetype/liberation: caching, new cache contents: 16 fonts, 0 dirs\n",
            "/usr/share/fonts/truetype/nanum: caching, new cache contents: 10 fonts, 0 dirs\n",
            "/usr/local/share/fonts: caching, new cache contents: 0 fonts, 0 dirs\n",
            "/root/.local/share/fonts: skipping, no such directory\n",
            "/root/.fonts: skipping, no such directory\n",
            "/var/cache/fontconfig: cleaning cache directory\n",
            "/root/.cache/fontconfig: not cleaning non-existent cache directory\n",
            "/root/.fontconfig: not cleaning non-existent cache directory\n",
            "fc-cache: succeeded\n"
          ]
        }
      ]
    },
    {
      "cell_type": "code",
      "metadata": {
        "id": "pnwh71I3Yo0T"
      },
      "source": [
        ""
      ],
      "execution_count": null,
      "outputs": []
    },
    {
      "cell_type": "code",
      "metadata": {
        "colab": {
          "base_uri": "https://localhost:8080/"
        },
        "id": "vGrUEXAepLkO",
        "outputId": "aef4f43e-1981-4782-d1af-b44ef6dd3654"
      },
      "source": [
        "from google.colab import drive\n",
        "drive.mount('/content/drive')"
      ],
      "execution_count": null,
      "outputs": [
        {
          "output_type": "stream",
          "name": "stdout",
          "text": [
            "Drive already mounted at /content/drive; to attempt to forcibly remount, call drive.mount(\"/content/drive\", force_remount=True).\n"
          ]
        }
      ]
    },
    {
      "cell_type": "code",
      "metadata": {
        "id": "HwfnvFbrYoIx"
      },
      "source": [
        ""
      ],
      "execution_count": null,
      "outputs": []
    },
    {
      "cell_type": "code",
      "metadata": {
        "id": "vQDgGC0hqSEQ"
      },
      "source": [
        ""
      ],
      "execution_count": null,
      "outputs": []
    },
    {
      "cell_type": "code",
      "metadata": {
        "id": "8KaF_YdaqQ_7"
      },
      "source": [
        "import json \n",
        "import pandas as pd \n",
        "from pandas.io.json import json_normalize \n",
        "import nltk\n",
        "import numpy as np"
      ],
      "execution_count": null,
      "outputs": []
    },
    {
      "cell_type": "code",
      "metadata": {
        "id": "sM0JgG1OpPXc"
      },
      "source": [
        "filename='/content/drive/MyDrive/data/일과직업.json'"
      ],
      "execution_count": null,
      "outputs": []
    },
    {
      "cell_type": "code",
      "metadata": {
        "id": "08FlpYD7u0ef"
      },
      "source": [
        "with open(filename, \"r\", encoding=\"utf8\") as f: \n",
        "    json_data = json.load(f)\n",
        "datas = json_data['data']"
      ],
      "execution_count": null,
      "outputs": []
    },
    {
      "cell_type": "code",
      "metadata": {
        "id": "CRY9v9vYvA3m",
        "colab": {
          "base_uri": "https://localhost:8080/"
        },
        "outputId": "bdc49224-7177-4a19-c90b-6eebabe95c4b"
      },
      "source": [
        "datas[0]['body'][0]"
      ],
      "execution_count": null,
      "outputs": [
        {
          "output_type": "execute_result",
          "data": {
            "text/plain": [
              "{'date': '2020-10-07',\n",
              " 'participantID': 'P01',\n",
              " 'time': '13:18:00',\n",
              " 'turnID': 'T1',\n",
              " 'utterance': '여러 명 같이 하나보네?',\n",
              " 'utteranceID': 'U1'}"
            ]
          },
          "metadata": {},
          "execution_count": 9
        }
      ]
    },
    {
      "cell_type": "code",
      "metadata": {
        "id": "FiNo5rYopPxB",
        "colab": {
          "base_uri": "https://localhost:8080/"
        },
        "outputId": "169cba13-f1de-4b7a-939a-c62a2008f883"
      },
      "source": [
        "datas[0]['header']['participantsInfo']"
      ],
      "execution_count": null,
      "outputs": [
        {
          "output_type": "execute_result",
          "data": {
            "text/plain": [
              "[{'age': '20대',\n",
              "  'gender': '여성',\n",
              "  'participantID': 'P01',\n",
              "  'residentialProvince': '광주광역시'},\n",
              " {'age': '20대',\n",
              "  'gender': '여성',\n",
              "  'participantID': 'P02',\n",
              "  'residentialProvince': '서울특별시'}]"
            ]
          },
          "metadata": {},
          "execution_count": 16
        }
      ]
    },
    {
      "cell_type": "code",
      "metadata": {
        "id": "qbncSEWHEMsw"
      },
      "source": [
        ""
      ],
      "execution_count": null,
      "outputs": []
    },
    {
      "cell_type": "code",
      "metadata": {
        "colab": {
          "base_uri": "https://localhost:8080/"
        },
        "id": "4iCY5eTVpQaa",
        "outputId": "8c3aeaa7-ff0d-484c-97e4-ec68a7f537e0"
      },
      "source": [
        "txt =[]\n",
        "date=[]\n",
        "time=[]\n",
        "user=[]\n",
        "for i in range(0,76200):\n",
        "    for text in datas[i]['body'] :\n",
        "        txt.append(text['utterance'])\n",
        "        date.append(text['date'])\n",
        "        time.append(text['time'])\n",
        "        user.append(text['utteranceID'])\n",
        "\n",
        "txt[1:10]\n",
        "date[1:10]\n",
        "time[1:10]\n",
        "user[1:10]"
      ],
      "execution_count": null,
      "outputs": [
        {
          "output_type": "execute_result",
          "data": {
            "text/plain": [
              "['U2', 'U3', 'U4', 'U5', 'U6', 'U7', 'U8', 'U9', 'U10']"
            ]
          },
          "metadata": {},
          "execution_count": 10
        }
      ]
    },
    {
      "cell_type": "code",
      "metadata": {
        "id": "YAkZTpKaEEIK"
      },
      "source": [
        ""
      ],
      "execution_count": null,
      "outputs": []
    },
    {
      "cell_type": "code",
      "metadata": {
        "colab": {
          "base_uri": "https://localhost:8080/"
        },
        "id": "GhEqdw0VED5q",
        "outputId": "d592ccb9-d60e-4ccb-86b0-c94acd454924"
      },
      "source": [
        "gender=[]\n",
        "\n",
        "for i in range(0,76200):\n",
        "    for tex in datas[i]['header']['participantsInfo'] :\n",
        "        gender.append(tex['gender'])\n",
        "\n",
        "gender[0:10]"
      ],
      "execution_count": null,
      "outputs": [
        {
          "output_type": "execute_result",
          "data": {
            "text/plain": [
              "['여성', '여성', '여성', '여성', '남성', '여성', '여성', '여성', '여성', '여성']"
            ]
          },
          "metadata": {},
          "execution_count": 11
        }
      ]
    },
    {
      "cell_type": "code",
      "metadata": {
        "id": "gGxBLAWLEDZI"
      },
      "source": [
        ""
      ],
      "execution_count": null,
      "outputs": []
    },
    {
      "cell_type": "code",
      "metadata": {
        "id": "Cnj94v1upRSp"
      },
      "source": [
        "#kakao = pd.DataFrame({'date':date,\n",
        "#                      'time':time,\n",
        "#                      'message':txt,\n",
        "#                      'user':user})"
      ],
      "execution_count": null,
      "outputs": []
    },
    {
      "cell_type": "code",
      "metadata": {
        "id": "9aSxGD-EpRk8"
      },
      "source": [
        "# kakao.head()"
      ],
      "execution_count": null,
      "outputs": []
    },
    {
      "cell_type": "code",
      "metadata": {
        "id": "jzbRb9kHJ4m7"
      },
      "source": [
        ""
      ],
      "execution_count": null,
      "outputs": []
    },
    {
      "cell_type": "code",
      "metadata": {
        "id": "UkOsCv43LIYw"
      },
      "source": [
        "dic = {'date':date,\n",
        "       'time':time,\n",
        "       'message':txt,\n",
        "       'user':user,\n",
        "       'gender':gender}\n",
        "\n",
        "res = pd.DataFrame.from_dict(dic,orient='index')\n",
        "kakao = res.transpose()"
      ],
      "execution_count": null,
      "outputs": []
    },
    {
      "cell_type": "code",
      "metadata": {
        "colab": {
          "base_uri": "https://localhost:8080/",
          "height": 357
        },
        "id": "PHmtbFg1LIi3",
        "outputId": "d8dd15e3-50ef-42b2-b146-f8ff651b85ff"
      },
      "source": [
        "kakao.head(10)"
      ],
      "execution_count": null,
      "outputs": [
        {
          "output_type": "execute_result",
          "data": {
            "text/html": [
              "<div>\n",
              "<style scoped>\n",
              "    .dataframe tbody tr th:only-of-type {\n",
              "        vertical-align: middle;\n",
              "    }\n",
              "\n",
              "    .dataframe tbody tr th {\n",
              "        vertical-align: top;\n",
              "    }\n",
              "\n",
              "    .dataframe thead th {\n",
              "        text-align: right;\n",
              "    }\n",
              "</style>\n",
              "<table border=\"1\" class=\"dataframe\">\n",
              "  <thead>\n",
              "    <tr style=\"text-align: right;\">\n",
              "      <th></th>\n",
              "      <th>date</th>\n",
              "      <th>time</th>\n",
              "      <th>message</th>\n",
              "      <th>user</th>\n",
              "      <th>gender</th>\n",
              "    </tr>\n",
              "  </thead>\n",
              "  <tbody>\n",
              "    <tr>\n",
              "      <th>0</th>\n",
              "      <td>2020-10-07</td>\n",
              "      <td>13:18:00</td>\n",
              "      <td>여러 명 같이 하나보네?</td>\n",
              "      <td>U1</td>\n",
              "      <td>여성</td>\n",
              "    </tr>\n",
              "    <tr>\n",
              "      <th>1</th>\n",
              "      <td>2020-10-07</td>\n",
              "      <td>13:18:00</td>\n",
              "      <td>#@이모티콘#</td>\n",
              "      <td>U2</td>\n",
              "      <td>여성</td>\n",
              "    </tr>\n",
              "    <tr>\n",
              "      <th>2</th>\n",
              "      <td>2020-10-07</td>\n",
              "      <td>13:19:00</td>\n",
              "      <td>응 한 10명?</td>\n",
              "      <td>U3</td>\n",
              "      <td>여성</td>\n",
              "    </tr>\n",
              "    <tr>\n",
              "      <th>3</th>\n",
              "      <td>2020-10-07</td>\n",
              "      <td>13:19:00</td>\n",
              "      <td>프로그램 다운이 안 됐대</td>\n",
              "      <td>U4</td>\n",
              "      <td>여성</td>\n",
              "    </tr>\n",
              "    <tr>\n",
              "      <th>4</th>\n",
              "      <td>2020-10-07</td>\n",
              "      <td>13:19:00</td>\n",
              "      <td>아</td>\n",
              "      <td>U5</td>\n",
              "      <td>남성</td>\n",
              "    </tr>\n",
              "    <tr>\n",
              "      <th>5</th>\n",
              "      <td>2020-10-07</td>\n",
              "      <td>13:19:00</td>\n",
              "      <td>강제로 쉬는 시간</td>\n",
              "      <td>U6</td>\n",
              "      <td>여성</td>\n",
              "    </tr>\n",
              "    <tr>\n",
              "      <th>6</th>\n",
              "      <td>2020-10-07</td>\n",
              "      <td>13:20:00</td>\n",
              "      <td>평일엥 일하겠네 우리 #@이름#</td>\n",
              "      <td>U7</td>\n",
              "      <td>여성</td>\n",
              "    </tr>\n",
              "    <tr>\n",
              "      <th>7</th>\n",
              "      <td>2020-10-07</td>\n",
              "      <td>13:20:00</td>\n",
              "      <td>평일엔...</td>\n",
              "      <td>U8</td>\n",
              "      <td>여성</td>\n",
              "    </tr>\n",
              "    <tr>\n",
              "      <th>8</th>\n",
              "      <td>2020-10-07</td>\n",
              "      <td>14:15:00</td>\n",
              "      <td>다음 주부터는</td>\n",
              "      <td>U9</td>\n",
              "      <td>여성</td>\n",
              "    </tr>\n",
              "    <tr>\n",
              "      <th>9</th>\n",
              "      <td>2020-10-07</td>\n",
              "      <td>14:15:00</td>\n",
              "      <td>바쁘겠다</td>\n",
              "      <td>U10</td>\n",
              "      <td>여성</td>\n",
              "    </tr>\n",
              "  </tbody>\n",
              "</table>\n",
              "</div>"
            ],
            "text/plain": [
              "         date      time            message user gender\n",
              "0  2020-10-07  13:18:00      여러 명 같이 하나보네?   U1     여성\n",
              "1  2020-10-07  13:18:00            #@이모티콘#   U2     여성\n",
              "2  2020-10-07  13:19:00           응 한 10명?   U3     여성\n",
              "3  2020-10-07  13:19:00      프로그램 다운이 안 됐대   U4     여성\n",
              "4  2020-10-07  13:19:00                  아   U5     남성\n",
              "5  2020-10-07  13:19:00          강제로 쉬는 시간   U6     여성\n",
              "6  2020-10-07  13:20:00  평일엥 일하겠네 우리 #@이름#   U7     여성\n",
              "7  2020-10-07  13:20:00             평일엔...   U8     여성\n",
              "8  2020-10-07  14:15:00            다음 주부터는   U9     여성\n",
              "9  2020-10-07  14:15:00               바쁘겠다  U10     여성"
            ]
          },
          "metadata": {},
          "execution_count": 61
        }
      ]
    },
    {
      "cell_type": "code",
      "metadata": {
        "colab": {
          "base_uri": "https://localhost:8080/",
          "height": 357
        },
        "id": "VY1lea-aLIpk",
        "outputId": "82223504-43db-4a8a-fa55-1e1965ceba14"
      },
      "source": [
        "kakao.tail(10)"
      ],
      "execution_count": null,
      "outputs": [
        {
          "output_type": "execute_result",
          "data": {
            "text/html": [
              "<div>\n",
              "<style scoped>\n",
              "    .dataframe tbody tr th:only-of-type {\n",
              "        vertical-align: middle;\n",
              "    }\n",
              "\n",
              "    .dataframe tbody tr th {\n",
              "        vertical-align: top;\n",
              "    }\n",
              "\n",
              "    .dataframe thead th {\n",
              "        text-align: right;\n",
              "    }\n",
              "</style>\n",
              "<table border=\"1\" class=\"dataframe\">\n",
              "  <thead>\n",
              "    <tr style=\"text-align: right;\">\n",
              "      <th></th>\n",
              "      <th>date</th>\n",
              "      <th>time</th>\n",
              "      <th>message</th>\n",
              "      <th>user</th>\n",
              "      <th>gender</th>\n",
              "    </tr>\n",
              "  </thead>\n",
              "  <tbody>\n",
              "    <tr>\n",
              "      <th>1166083</th>\n",
              "      <td>2020-08-03</td>\n",
              "      <td>16:13:00</td>\n",
              "      <td>내년에 31라고 해야겠다</td>\n",
              "      <td>U8</td>\n",
              "      <td>None</td>\n",
              "    </tr>\n",
              "    <tr>\n",
              "      <th>1166084</th>\n",
              "      <td>2020-08-03</td>\n",
              "      <td>16:13:00</td>\n",
              "      <td>정정합니다</td>\n",
              "      <td>U9</td>\n",
              "      <td>None</td>\n",
              "    </tr>\n",
              "    <tr>\n",
              "      <th>1166085</th>\n",
              "      <td>2020-08-03</td>\n",
              "      <td>16:13:00</td>\n",
              "      <td>ㅋㅋㅋㅋㅋㅋ</td>\n",
              "      <td>U10</td>\n",
              "      <td>None</td>\n",
              "    </tr>\n",
              "    <tr>\n",
              "      <th>1166086</th>\n",
              "      <td>2020-08-03</td>\n",
              "      <td>16:13:00</td>\n",
              "      <td>올해 30살이요</td>\n",
              "      <td>U11</td>\n",
              "      <td>None</td>\n",
              "    </tr>\n",
              "    <tr>\n",
              "      <th>1166087</th>\n",
              "      <td>2020-08-03</td>\n",
              "      <td>16:13:00</td>\n",
              "      <td>과장님들이</td>\n",
              "      <td>U12</td>\n",
              "      <td>None</td>\n",
              "    </tr>\n",
              "    <tr>\n",
              "      <th>1166088</th>\n",
              "      <td>2020-08-03</td>\n",
              "      <td>16:13:00</td>\n",
              "      <td>밖에서 은근슬쩍</td>\n",
              "      <td>U13</td>\n",
              "      <td>None</td>\n",
              "    </tr>\n",
              "    <tr>\n",
              "      <th>1166089</th>\n",
              "      <td>2020-08-03</td>\n",
              "      <td>16:13:00</td>\n",
              "      <td>#@이름#씨</td>\n",
              "      <td>U14</td>\n",
              "      <td>None</td>\n",
              "    </tr>\n",
              "    <tr>\n",
              "      <th>1166090</th>\n",
              "      <td>2020-08-03</td>\n",
              "      <td>16:13:00</td>\n",
              "      <td>말놓는다</td>\n",
              "      <td>U15</td>\n",
              "      <td>None</td>\n",
              "    </tr>\n",
              "    <tr>\n",
              "      <th>1166091</th>\n",
              "      <td>2020-08-03</td>\n",
              "      <td>16:13:00</td>\n",
              "      <td>오 둘이 동갑이야~? 이러면</td>\n",
              "      <td>U16</td>\n",
              "      <td>None</td>\n",
              "    </tr>\n",
              "    <tr>\n",
              "      <th>1166092</th>\n",
              "      <td>2020-08-03</td>\n",
              "      <td>16:13:00</td>\n",
              "      <td>아뇨? 저 30살인데요!</td>\n",
              "      <td>U17</td>\n",
              "      <td>None</td>\n",
              "    </tr>\n",
              "  </tbody>\n",
              "</table>\n",
              "</div>"
            ],
            "text/plain": [
              "               date      time          message user gender\n",
              "1166083  2020-08-03  16:13:00    내년에 31라고 해야겠다   U8   None\n",
              "1166084  2020-08-03  16:13:00            정정합니다   U9   None\n",
              "1166085  2020-08-03  16:13:00           ㅋㅋㅋㅋㅋㅋ  U10   None\n",
              "1166086  2020-08-03  16:13:00         올해 30살이요  U11   None\n",
              "1166087  2020-08-03  16:13:00            과장님들이  U12   None\n",
              "1166088  2020-08-03  16:13:00         밖에서 은근슬쩍  U13   None\n",
              "1166089  2020-08-03  16:13:00           #@이름#씨  U14   None\n",
              "1166090  2020-08-03  16:13:00             말놓는다  U15   None\n",
              "1166091  2020-08-03  16:13:00  오 둘이 동갑이야~? 이러면  U16   None\n",
              "1166092  2020-08-03  16:13:00    아뇨? 저 30살인데요!  U17   None"
            ]
          },
          "metadata": {},
          "execution_count": 62
        }
      ]
    },
    {
      "cell_type": "code",
      "metadata": {
        "id": "MzweCnTAPMsT"
      },
      "source": [
        ""
      ],
      "execution_count": null,
      "outputs": []
    },
    {
      "cell_type": "code",
      "metadata": {
        "colab": {
          "base_uri": "https://localhost:8080/"
        },
        "id": "1yqpV2ZaLI1T",
        "outputId": "b78a52c0-488d-47b1-d4c2-6db02577dac5"
      },
      "source": [
        "kakao['gender'].isnull()"
      ],
      "execution_count": null,
      "outputs": [
        {
          "output_type": "execute_result",
          "data": {
            "text/plain": [
              "0          False\n",
              "1          False\n",
              "2          False\n",
              "3          False\n",
              "4          False\n",
              "           ...  \n",
              "1166088     True\n",
              "1166089     True\n",
              "1166090     True\n",
              "1166091     True\n",
              "1166092     True\n",
              "Name: gender, Length: 1166093, dtype: bool"
            ]
          },
          "metadata": {},
          "execution_count": 13
        }
      ]
    },
    {
      "cell_type": "code",
      "metadata": {
        "id": "8HX5p7KZLI__"
      },
      "source": [
        "kakao['gender'] = kakao['gender'].fillna('남성') "
      ],
      "execution_count": null,
      "outputs": []
    },
    {
      "cell_type": "code",
      "metadata": {
        "colab": {
          "base_uri": "https://localhost:8080/"
        },
        "id": "BRX16XWKR2Xc",
        "outputId": "320cfed6-e442-4b49-c035-8b0deb2174b0"
      },
      "source": [
        "kakao['gender'].isnull()"
      ],
      "execution_count": null,
      "outputs": [
        {
          "output_type": "execute_result",
          "data": {
            "text/plain": [
              "0          False\n",
              "1          False\n",
              "2          False\n",
              "3          False\n",
              "4          False\n",
              "           ...  \n",
              "1166088    False\n",
              "1166089    False\n",
              "1166090    False\n",
              "1166091    False\n",
              "1166092    False\n",
              "Name: gender, Length: 1166093, dtype: bool"
            ]
          },
          "metadata": {},
          "execution_count": 15
        }
      ]
    },
    {
      "cell_type": "code",
      "metadata": {
        "id": "QshjlLkNR2Br"
      },
      "source": [
        ""
      ],
      "execution_count": null,
      "outputs": []
    },
    {
      "cell_type": "code",
      "metadata": {
        "id": "w_i_Bjw_6FB8",
        "colab": {
          "base_uri": "https://localhost:8080/"
        },
        "outputId": "da441d0a-e1d3-469d-caea-68f750d222cd"
      },
      "source": [
        "corpus = kakao['message']\n",
        "corpus"
      ],
      "execution_count": null,
      "outputs": [
        {
          "output_type": "execute_result",
          "data": {
            "text/plain": [
              "0            여러 명 같이 하나보네?\n",
              "1                  #@이모티콘#\n",
              "2                 응 한 10명?\n",
              "3            프로그램 다운이 안 됐대\n",
              "4                        아\n",
              "                ...       \n",
              "1166088           밖에서 은근슬쩍\n",
              "1166089             #@이름#씨\n",
              "1166090               말놓는다\n",
              "1166091    오 둘이 동갑이야~? 이러면\n",
              "1166092      아뇨? 저 30살인데요!\n",
              "Name: message, Length: 1166093, dtype: object"
            ]
          },
          "metadata": {},
          "execution_count": 16
        }
      ]
    },
    {
      "cell_type": "code",
      "metadata": {
        "id": "cilBOm8tVvzw"
      },
      "source": [
        ""
      ],
      "execution_count": null,
      "outputs": []
    },
    {
      "cell_type": "code",
      "metadata": {
        "id": "402gbJGcVvbC"
      },
      "source": [
        ""
      ],
      "execution_count": null,
      "outputs": []
    },
    {
      "cell_type": "code",
      "metadata": {
        "id": "9GlcKglBpRud",
        "colab": {
          "base_uri": "https://localhost:8080/"
        },
        "outputId": "e8514956-a944-48b3-fead-deef3195eaf3"
      },
      "source": [
        "total_tokens = [token for msg in corpus for token in str(msg).split()]\n",
        "print(len(total_tokens))"
      ],
      "execution_count": null,
      "outputs": [
        {
          "output_type": "stream",
          "name": "stdout",
          "text": [
            "3107562\n"
          ]
        }
      ]
    },
    {
      "cell_type": "code",
      "metadata": {
        "id": "1XOUQ-rZpR3k",
        "colab": {
          "base_uri": "https://localhost:8080/"
        },
        "outputId": "3df3a7ef-4c92-42e5-8a31-cbf6dc76b2c0"
      },
      "source": [
        "text = nltk.Text(total_tokens, name='kakao')\n",
        "print(len(set(text.tokens)))\n",
        "print(text.vocab().most_common(10))"
      ],
      "execution_count": null,
      "outputs": [
        {
          "output_type": "stream",
          "name": "stdout",
          "text": [
            "963211\n",
            "[('근데', 22575), ('나', 18377), ('진짜', 17420), ('아', 16671), ('내가', 13337), ('다', 13323), ('오늘', 12987), ('ㅋㅋㅋ', 11479), ('그냥', 10936), ('ㅋㅋ', 10463)]\n"
          ]
        }
      ]
    },
    {
      "cell_type": "code",
      "metadata": {
        "id": "SOMfZIJDpSAm"
      },
      "source": [
        ""
      ],
      "execution_count": null,
      "outputs": []
    },
    {
      "cell_type": "code",
      "metadata": {
        "id": "yPJ3oN6KpSH_"
      },
      "source": [
        ""
      ],
      "execution_count": null,
      "outputs": []
    },
    {
      "cell_type": "code",
      "metadata": {
        "id": "Xm5FxsSWpSO5",
        "colab": {
          "base_uri": "https://localhost:8080/",
          "height": 668
        },
        "outputId": "52eadcff-c8c1-41da-ea1e-96debfd09d02"
      },
      "source": [
        "import matplotlib.pyplot as plt\n",
        "import platform\n",
        "from matplotlib import font_manager, rc\n",
        "%matplotlib inline\n",
        "\n",
        "\n",
        "plt.rc('font',family='NanumBarunGothic')\n",
        "plt.figure(figsize=(16,10))\n",
        "text.plot(50)"
      ],
      "execution_count": null,
      "outputs": [
        {
          "output_type": "display_data",
          "data": {
            "image/png": "[encoded data removed]",
            "text/plain": [
              "<Figure size 1152x720 with 1 Axes>"
            ]
          },
          "metadata": {
            "needs_background": "light"
          }
        }
      ]
    },
    {
      "cell_type": "code",
      "metadata": {
        "id": "ckXME31IpSU6"
      },
      "source": [
        ""
      ],
      "execution_count": null,
      "outputs": []
    },
    {
      "cell_type": "code",
      "metadata": {
        "id": "0ctSEk-MpSbN"
      },
      "source": [
        ""
      ],
      "execution_count": null,
      "outputs": []
    },
    {
      "cell_type": "code",
      "metadata": {
        "id": "fVsjl2TBpShx"
      },
      "source": [
        ""
      ],
      "execution_count": null,
      "outputs": []
    },
    {
      "cell_type": "code",
      "metadata": {
        "id": "SmmyAl_epSnq"
      },
      "source": [
        ""
      ],
      "execution_count": null,
      "outputs": []
    },
    {
      "cell_type": "markdown",
      "metadata": {
        "id": "Mt7ROQ_jaBpJ"
      },
      "source": [
        "데이터 정제\n"
      ]
    },
    {
      "cell_type": "code",
      "metadata": {
        "id": "edoW1ts4pSs9"
      },
      "source": [
        "import re\n",
        "\n",
        "def message_cleaning(docs):\n",
        "    # Series의 object를 str로 변경.\n",
        "    docs = [str(doc) for doc in docs]\n",
        "    \n",
        "    # 1\n",
        "    pattern1 = re.compile(\"사진|이모티콘\")\n",
        "    docs = [pattern1.sub(\"\", doc) for doc in docs]\n",
        "    \n",
        "    # 2\n",
        "    pattern2 = re.compile(\"[ㄱ-ㅎ]*[ㅏ-ㅢ]*\")\n",
        "    docs = [pattern2.sub(\"\", doc) for doc in docs]\n",
        "    \n",
        "    # 3\n",
        "    pattern3 = re.compile(r\"\\b(https?:\\/\\/)?([\\w.]+){1,2}(\\.[\\w]{2,4}){1,2}(.*)\")\n",
        "    docs = [pattern3.sub(\"\", doc) for doc in docs]\n",
        "    \n",
        "    # 4\n",
        "    pattern4 = re.compile(\"[\\{\\}\\[\\]\\/?.,;:|\\)*~`!^\\-_+<>@\\#$%&\\\\\\=\\(\\'\\\"]\")\n",
        "    docs = [pattern4.sub(\"\", doc) for doc in docs]\n",
        "\n",
        "    return docs\n",
        "\n",
        "def define_stopwords(path):\n",
        "\n",
        "  SW = set()\n",
        "\n",
        "  with open(path) as f:\n",
        "    for word in f:\n",
        "      SW.add(word)\n",
        "  \n",
        "  return SW\n",
        "\n",
        "def text_tokenizing(doc):\n",
        "  return [word for word in mecab.morphs(doc) if word not in SW and len(word) > 1]\n",
        "\n",
        "  # wordcloud용 명사 추출\n",
        "  # return [word for word in mecab.nouns(doc) if word not in SW and len(word) > 1]"
      ],
      "execution_count": null,
      "outputs": []
    },
    {
      "cell_type": "code",
      "metadata": {
        "id": "CIjPHb0HpSy_",
        "colab": {
          "base_uri": "https://localhost:8080/"
        },
        "outputId": "7d40423e-3641-4671-dbc3-72ad3ba36d42"
      },
      "source": [
        "SW = define_stopwords(\"/content/drive/MyDrive/data/stopwords-ko.txt\")\n",
        "\n",
        "cleaned_corpus = message_cleaning(corpus)\n",
        "print(len(cleaned_corpus))\n",
        "print(cleaned_corpus[:10])"
      ],
      "execution_count": null,
      "outputs": [
        {
          "output_type": "stream",
          "name": "stdout",
          "text": [
            "1166093\n",
            "['여러 명 같이 하나보네', '', '응 한 10명', '프로그램 다운이 안 됐대', '아', '강제로 쉬는 시간', '평일엥 일하겠네 우리 이름', '평일엔', '다음 주부터는', '바쁘겠다']\n"
          ]
        }
      ]
    },
    {
      "cell_type": "code",
      "metadata": {
        "id": "VrurSWnBpS4D",
        "colab": {
          "base_uri": "https://localhost:8080/"
        },
        "outputId": "ce4cf964-cd6c-4522-938d-e8de93cd6380"
      },
      "source": [
        "cleaned_text = pd.Series(cleaned_corpus)\n",
        "kakao[\"message\"] = cleaned_text\n",
        "cleaned_data = kakao[kakao[\"message\"] != \"\"]\n",
        "cleaned_data.info()"
      ],
      "execution_count": null,
      "outputs": [
        {
          "output_type": "stream",
          "name": "stdout",
          "text": [
            "<class 'pandas.core.frame.DataFrame'>\n",
            "Int64Index: 1103809 entries, 0 to 1166092\n",
            "Data columns (total 5 columns):\n",
            " #   Column   Non-Null Count    Dtype \n",
            "---  ------   --------------    ----- \n",
            " 0   date     1103809 non-null  object\n",
            " 1   time     1103809 non-null  object\n",
            " 2   message  1103809 non-null  object\n",
            " 3   user     1103809 non-null  object\n",
            " 4   gender   1103809 non-null  object\n",
            "dtypes: object(5)\n",
            "memory usage: 50.5+ MB\n"
          ]
        }
      ]
    },
    {
      "cell_type": "code",
      "metadata": {
        "id": "jrC7OMD7pS9S",
        "colab": {
          "base_uri": "https://localhost:8080/",
          "height": 203
        },
        "outputId": "a6239a69-43d2-4350-e25e-810dd508431d"
      },
      "source": [
        "cleaned_data.head()"
      ],
      "execution_count": null,
      "outputs": [
        {
          "output_type": "execute_result",
          "data": {
            "text/html": [
              "<div>\n",
              "<style scoped>\n",
              "    .dataframe tbody tr th:only-of-type {\n",
              "        vertical-align: middle;\n",
              "    }\n",
              "\n",
              "    .dataframe tbody tr th {\n",
              "        vertical-align: top;\n",
              "    }\n",
              "\n",
              "    .dataframe thead th {\n",
              "        text-align: right;\n",
              "    }\n",
              "</style>\n",
              "<table border=\"1\" class=\"dataframe\">\n",
              "  <thead>\n",
              "    <tr style=\"text-align: right;\">\n",
              "      <th></th>\n",
              "      <th>date</th>\n",
              "      <th>time</th>\n",
              "      <th>message</th>\n",
              "      <th>user</th>\n",
              "      <th>gender</th>\n",
              "    </tr>\n",
              "  </thead>\n",
              "  <tbody>\n",
              "    <tr>\n",
              "      <th>0</th>\n",
              "      <td>2020-10-07</td>\n",
              "      <td>13:18:00</td>\n",
              "      <td>여러 명 같이 하나보네</td>\n",
              "      <td>U1</td>\n",
              "      <td>여성</td>\n",
              "    </tr>\n",
              "    <tr>\n",
              "      <th>2</th>\n",
              "      <td>2020-10-07</td>\n",
              "      <td>13:19:00</td>\n",
              "      <td>응 한 10명</td>\n",
              "      <td>U3</td>\n",
              "      <td>여성</td>\n",
              "    </tr>\n",
              "    <tr>\n",
              "      <th>3</th>\n",
              "      <td>2020-10-07</td>\n",
              "      <td>13:19:00</td>\n",
              "      <td>프로그램 다운이 안 됐대</td>\n",
              "      <td>U4</td>\n",
              "      <td>여성</td>\n",
              "    </tr>\n",
              "    <tr>\n",
              "      <th>4</th>\n",
              "      <td>2020-10-07</td>\n",
              "      <td>13:19:00</td>\n",
              "      <td>아</td>\n",
              "      <td>U5</td>\n",
              "      <td>남성</td>\n",
              "    </tr>\n",
              "    <tr>\n",
              "      <th>5</th>\n",
              "      <td>2020-10-07</td>\n",
              "      <td>13:19:00</td>\n",
              "      <td>강제로 쉬는 시간</td>\n",
              "      <td>U6</td>\n",
              "      <td>여성</td>\n",
              "    </tr>\n",
              "  </tbody>\n",
              "</table>\n",
              "</div>"
            ],
            "text/plain": [
              "         date      time        message user gender\n",
              "0  2020-10-07  13:18:00   여러 명 같이 하나보네   U1     여성\n",
              "2  2020-10-07  13:19:00        응 한 10명   U3     여성\n",
              "3  2020-10-07  13:19:00  프로그램 다운이 안 됐대   U4     여성\n",
              "4  2020-10-07  13:19:00              아   U5     남성\n",
              "5  2020-10-07  13:19:00      강제로 쉬는 시간   U6     여성"
            ]
          },
          "metadata": {},
          "execution_count": 87
        }
      ]
    },
    {
      "cell_type": "code",
      "metadata": {
        "id": "716wulNoi4gd"
      },
      "source": [
        ""
      ],
      "execution_count": null,
      "outputs": []
    },
    {
      "cell_type": "markdown",
      "metadata": {
        "id": "FtZ9L5jki1r-"
      },
      "source": [
        "정제 데이터 저장"
      ]
    },
    {
      "cell_type": "code",
      "metadata": {
        "id": "5frF1amepTIg"
      },
      "source": [
        "import pickle\n",
        "\n",
        "with open(\"cleaned_data.pk\", \"wb\") as f:\n",
        "  pickle.dump(cleaned_data, f)"
      ],
      "execution_count": null,
      "outputs": []
    },
    {
      "cell_type": "code",
      "metadata": {
        "id": "3SVJn6V3pTNe"
      },
      "source": [
        ""
      ],
      "execution_count": null,
      "outputs": []
    },
    {
      "cell_type": "code",
      "metadata": {
        "id": "f2ViBovUpTSS"
      },
      "source": [
        ""
      ],
      "execution_count": null,
      "outputs": []
    },
    {
      "cell_type": "markdown",
      "metadata": {
        "id": "8aRMxVVLjP5v"
      },
      "source": [
        "데이터 불러오기"
      ]
    },
    {
      "cell_type": "code",
      "metadata": {
        "id": "L1pudECxpTXV"
      },
      "source": [
        "from pprint import pprint"
      ],
      "execution_count": null,
      "outputs": []
    },
    {
      "cell_type": "code",
      "metadata": {
        "id": "92e3ICLJpTcK",
        "colab": {
          "base_uri": "https://localhost:8080/"
        },
        "outputId": "b8493a99-0dfe-4c4e-dc3a-4e2080af8f74"
      },
      "source": [
        "with open(\"/content/cleaned_data.pk\", \"rb\") as f:\n",
        "    data = pickle.load(f)\n",
        "    \n",
        "data.reset_index(drop=True, inplace=True)\n",
        "print(data.head())\n",
        "print(data.info())"
      ],
      "execution_count": null,
      "outputs": [
        {
          "output_type": "stream",
          "name": "stdout",
          "text": [
            "         date      time        message user gender\n",
            "0  2020-10-07  13:18:00   여러 명 같이 하나보네   U1     여성\n",
            "1  2020-10-07  13:19:00        응 한 10명   U3     여성\n",
            "2  2020-10-07  13:19:00  프로그램 다운이 안 됐대   U4     여성\n",
            "3  2020-10-07  13:19:00              아   U5     남성\n",
            "4  2020-10-07  13:19:00      강제로 쉬는 시간   U6     여성\n",
            "<class 'pandas.core.frame.DataFrame'>\n",
            "RangeIndex: 1103809 entries, 0 to 1103808\n",
            "Data columns (total 5 columns):\n",
            " #   Column   Non-Null Count    Dtype \n",
            "---  ------   --------------    ----- \n",
            " 0   date     1103809 non-null  object\n",
            " 1   time     1103809 non-null  object\n",
            " 2   message  1103809 non-null  object\n",
            " 3   user     1103809 non-null  object\n",
            " 4   gender   1103809 non-null  object\n",
            "dtypes: object(5)\n",
            "memory usage: 42.1+ MB\n",
            "None\n"
          ]
        }
      ]
    },
    {
      "cell_type": "code",
      "metadata": {
        "id": "k9Qc5wlbpTg1"
      },
      "source": [
        ""
      ],
      "execution_count": null,
      "outputs": []
    },
    {
      "cell_type": "code",
      "metadata": {
        "id": "z4ZS18P0pTlM"
      },
      "source": [
        "data[\"date\"]=data[\"date\"].astype(\"datetime64\") \n",
        "data[\"time\"]=data[\"time\"].astype(\"datetime64\") \n",
        "\n",
        "data[\"hour\"]=data[\"time\"].dt.hour\n",
        "data[\"year\"]=data[\"date\"].dt.year\n",
        "data[\"month\"]=data[\"date\"].dt.month\n",
        "data[\"day\"]=data[\"date\"].dt.day\n",
        "data['weekday']=data[\"date\"].dt.strftime(\"%A\")"
      ],
      "execution_count": null,
      "outputs": []
    },
    {
      "cell_type": "code",
      "metadata": {
        "id": "tIc_YKeA5Snu"
      },
      "source": [
        ""
      ],
      "execution_count": null,
      "outputs": []
    },
    {
      "cell_type": "markdown",
      "metadata": {
        "id": "mNY4Gdpp5Ugu"
      },
      "source": [
        "월별 대화 빈도수"
      ]
    },
    {
      "cell_type": "code",
      "metadata": {
        "id": "DxTgHd1PpTpk",
        "colab": {
          "base_uri": "https://localhost:8080/",
          "height": 309
        },
        "outputId": "e8c97b10-07b8-4df9-dfa3-a58b23f9ff26"
      },
      "source": [
        "data[data[\"year\"]==2020].groupby(\"date\")[\"message\"].count().plot(figsize=(12,4))"
      ],
      "execution_count": null,
      "outputs": [
        {
          "output_type": "execute_result",
          "data": {
            "text/plain": [
              "<matplotlib.axes._subplots.AxesSubplot at 0x7f4718592450>"
            ]
          },
          "metadata": {},
          "execution_count": 95
        },
        {
          "output_type": "display_data",
          "data": {
            "image/png": "[encoded data removed]",
            "text/plain": [
              "<Figure size 864x288 with 1 Axes>"
            ]
          },
          "metadata": {
            "needs_background": "light"
          }
        }
      ]
    },
    {
      "cell_type": "code",
      "metadata": {
        "id": "s4n6NrLZ5Fai"
      },
      "source": [
        ""
      ],
      "execution_count": null,
      "outputs": []
    },
    {
      "cell_type": "markdown",
      "metadata": {
        "id": "gBYhsORK5X38"
      },
      "source": [
        "요일별 대화 빈도수"
      ]
    },
    {
      "cell_type": "code",
      "metadata": {
        "id": "uk9YSycxpTuQ",
        "colab": {
          "base_uri": "https://localhost:8080/",
          "height": 266
        },
        "outputId": "abf7aac6-a21a-4080-a1b4-bc292a07febb"
      },
      "source": [
        "data[data[\"year\"]==2020].groupby(\"weekday\")[\"message\"].count().sort_values(ascending=False).plot(kind=\"pie\")"
      ],
      "execution_count": null,
      "outputs": [
        {
          "output_type": "execute_result",
          "data": {
            "text/plain": [
              "<matplotlib.axes._subplots.AxesSubplot at 0x7f47182c0fd0>"
            ]
          },
          "metadata": {},
          "execution_count": 85
        },
        {
          "output_type": "display_data",
          "data": {
            "image/png": "[encoded data removed]",
            "text/plain": [
              "<Figure size 432x288 with 1 Axes>"
            ]
          },
          "metadata": {}
        }
      ]
    },
    {
      "cell_type": "code",
      "metadata": {
        "id": "g6lMXZGOpTy9"
      },
      "source": [
        ""
      ],
      "execution_count": null,
      "outputs": []
    },
    {
      "cell_type": "code",
      "metadata": {
        "id": "sSEETfRZYEa0"
      },
      "source": [
        ""
      ],
      "execution_count": null,
      "outputs": []
    },
    {
      "cell_type": "markdown",
      "metadata": {
        "id": "DuEd9cyj5kLh"
      },
      "source": [
        "시간별 대화 빈도수"
      ]
    },
    {
      "cell_type": "code",
      "metadata": {
        "id": "yCViOim_pT3g",
        "colab": {
          "base_uri": "https://localhost:8080/",
          "height": 626
        },
        "outputId": "9ba356b8-87f3-4809-fd77-7f8d41610057"
      },
      "source": [
        "data[data[\"year\"]==2020].groupby(\"hour\")[\"message\"].count().plot(kind=\"bar\",figsize=(16,10))"
      ],
      "execution_count": null,
      "outputs": [
        {
          "output_type": "execute_result",
          "data": {
            "text/plain": [
              "<matplotlib.axes._subplots.AxesSubplot at 0x7f83d059df50>"
            ]
          },
          "metadata": {},
          "execution_count": 119
        },
        {
          "output_type": "display_data",
          "data": {
            "image/png": "[encoded data removed]",
            "text/plain": [
              "<Figure size 1152x720 with 1 Axes>"
            ]
          },
          "metadata": {
            "needs_background": "light"
          }
        }
      ]
    },
    {
      "cell_type": "code",
      "metadata": {
        "id": "qExNHlXepT8R"
      },
      "source": [
        ""
      ],
      "execution_count": null,
      "outputs": []
    },
    {
      "cell_type": "markdown",
      "metadata": {
        "id": "7u7WHA63T1g9"
      },
      "source": [
        "유저별 대화 빈도수 시각화"
      ]
    },
    {
      "cell_type": "code",
      "metadata": {
        "colab": {
          "base_uri": "https://localhost:8080/",
          "height": 610
        },
        "id": "wf7xfdXwThdH",
        "outputId": "efe5f780-fe24-4ed6-cdd1-104e7ff0661c"
      },
      "source": [
        "data.groupby(\"user\")[\"message\"].count().sort_values(ascending=True).plot(kind=\"barh\",grid=True, figsize=(16,10))"
      ],
      "execution_count": null,
      "outputs": [
        {
          "output_type": "execute_result",
          "data": {
            "text/plain": [
              "<matplotlib.axes._subplots.AxesSubplot at 0x7f46f4feb8d0>"
            ]
          },
          "metadata": {},
          "execution_count": 129
        },
        {
          "output_type": "display_data",
          "data": {
            "image/png": "[encoded data removed]",
            "text/plain": [
              "<Figure size 1152x720 with 1 Axes>"
            ]
          },
          "metadata": {
            "needs_background": "light"
          }
        }
      ]
    },
    {
      "cell_type": "code",
      "metadata": {
        "id": "FdTeBs78ThvW"
      },
      "source": [
        ""
      ],
      "execution_count": null,
      "outputs": []
    },
    {
      "cell_type": "code",
      "metadata": {
        "id": "ELC_JseWX0ja"
      },
      "source": [
        ""
      ],
      "execution_count": null,
      "outputs": []
    },
    {
      "cell_type": "markdown",
      "metadata": {
        "id": "QnxeZ1fd-LbT"
      },
      "source": [
        "데이터 정제후 top50 그래프"
      ]
    },
    {
      "cell_type": "code",
      "metadata": {
        "id": "26itPLdZpUBI",
        "colab": {
          "base_uri": "https://localhost:8080/",
          "height": 622
        },
        "outputId": "f5cfb648-d142-4f31-ded6-7e0fca95ce74"
      },
      "source": [
        "tokens = [token for msg in data[\"message\"] for token in str(msg).split()]\n",
        "cl_text = nltk.Text(tokens, name='kakao')\n",
        "plt.rc('font',family='NanumBarunGothic')\n",
        "plt.figure(figsize=(16,10))\n",
        "cl_text.plot(50)"
      ],
      "execution_count": null,
      "outputs": [
        {
          "output_type": "display_data",
          "data": {
            "image/png": "[encoded data removed]",
            "text/plain": [
              "<Figure size 1152x720 with 1 Axes>"
            ]
          },
          "metadata": {
            "needs_background": "light"
          }
        }
      ]
    },
    {
      "cell_type": "code",
      "metadata": {
        "id": "q9zANqSrpUGR"
      },
      "source": [
        ""
      ],
      "execution_count": null,
      "outputs": []
    },
    {
      "cell_type": "code",
      "metadata": {
        "id": "9J35DITxaohe"
      },
      "source": [
        ""
      ],
      "execution_count": null,
      "outputs": []
    },
    {
      "cell_type": "code",
      "metadata": {
        "colab": {
          "base_uri": "https://localhost:8080/",
          "height": 269
        },
        "id": "CYCuwAWSaoxD",
        "outputId": "f3a3d360-144c-4a00-d6a1-fb1b2e7e1aa5"
      },
      "source": [
        "from PIL import Image\n",
        "import matplotlib.pyplot as plt\n",
        "from collections import Counter\n",
        "\n",
        "icon = Image.open('/content/drive/MyDrive/data/image.jpg')    # 마스크가 될 이미지 불러오기 \n",
        "plt.imshow(icon)\n",
        "\n",
        "mask = Image.new(\"RGB\", icon.size, (255,255,255))\n",
        "mask.paste(icon)\n",
        "mask = np.array(mask)"
      ],
      "execution_count": null,
      "outputs": [
        {
          "output_type": "display_data",
          "data": {
            "image/png": "[encoded data removed]",
            "text/plain": [
              "<Figure size 432x288 with 1 Axes>"
            ]
          },
          "metadata": {
            "needs_background": "light"
          }
        }
      ]
    },
    {
      "cell_type": "code",
      "metadata": {
        "id": "SL4KsNDIpUKr",
        "colab": {
          "base_uri": "https://localhost:8080/",
          "height": 402
        },
        "outputId": "b4b6fd3a-ba3c-4bd6-c0ba-9a45fc561421"
      },
      "source": [
        "from wordcloud import WordCloud\n",
        "\n",
        "wc = cl_text.vocab().most_common(200)\n",
        "\n",
        "\n",
        "wordcloud = WordCloud(font_path='c:/Windows/Fonts/NanumBarunGothic.ttf',\n",
        "                      width=800, height=600,\n",
        "                      background_color='white',\n",
        "                      mask=mask\n",
        "                      ).generate_from_frequencies(dict(wc))\n",
        "plt.figure(figsize=(10,10))\n",
        "plt.imshow(wordcloud)\n",
        "plt.axis(\"off\")\n",
        "plt.show()"
      ],
      "execution_count": null,
      "outputs": [
        {
          "output_type": "display_data",
          "data": {
            "image/png": "[encoded data removed]",
            "text/plain": [
              "<Figure size 720x720 with 1 Axes>"
            ]
          },
          "metadata": {
            "needs_background": "light"
          }
        }
      ]
    },
    {
      "cell_type": "code",
      "metadata": {
        "id": "PUrmaDKqpUPW"
      },
      "source": [
        ""
      ],
      "execution_count": null,
      "outputs": []
    },
    {
      "cell_type": "code",
      "metadata": {
        "id": "q3lymMBKpUTw"
      },
      "source": [
        ""
      ],
      "execution_count": null,
      "outputs": []
    },
    {
      "cell_type": "code",
      "metadata": {
        "id": "o50zrAjNCpPa"
      },
      "source": [
        ""
      ],
      "execution_count": null,
      "outputs": []
    },
    {
      "cell_type": "markdown",
      "metadata": {
        "id": "aJ9VEpVFScDQ"
      },
      "source": [
        "나이브베이즈 예측 분류"
      ]
    },
    {
      "cell_type": "code",
      "metadata": {
        "colab": {
          "base_uri": "https://localhost:8080/",
          "height": 203
        },
        "id": "hs0If3PSTC3n",
        "outputId": "7cfd9aa5-ae5b-42c2-82ca-84c72e912ffd"
      },
      "source": [
        "data.head()"
      ],
      "execution_count": null,
      "outputs": [
        {
          "output_type": "execute_result",
          "data": {
            "text/html": [
              "<div>\n",
              "<style scoped>\n",
              "    .dataframe tbody tr th:only-of-type {\n",
              "        vertical-align: middle;\n",
              "    }\n",
              "\n",
              "    .dataframe tbody tr th {\n",
              "        vertical-align: top;\n",
              "    }\n",
              "\n",
              "    .dataframe thead th {\n",
              "        text-align: right;\n",
              "    }\n",
              "</style>\n",
              "<table border=\"1\" class=\"dataframe\">\n",
              "  <thead>\n",
              "    <tr style=\"text-align: right;\">\n",
              "      <th></th>\n",
              "      <th>date</th>\n",
              "      <th>time</th>\n",
              "      <th>message</th>\n",
              "      <th>user</th>\n",
              "      <th>gender</th>\n",
              "      <th>year</th>\n",
              "      <th>month</th>\n",
              "      <th>day</th>\n",
              "      <th>weekday</th>\n",
              "    </tr>\n",
              "  </thead>\n",
              "  <tbody>\n",
              "    <tr>\n",
              "      <th>0</th>\n",
              "      <td>2020-10-07</td>\n",
              "      <td>13:18:00</td>\n",
              "      <td>여러 명 같이 하나보네</td>\n",
              "      <td>U1</td>\n",
              "      <td>여성</td>\n",
              "      <td>2020</td>\n",
              "      <td>10</td>\n",
              "      <td>7</td>\n",
              "      <td>Wednesday</td>\n",
              "    </tr>\n",
              "    <tr>\n",
              "      <th>1</th>\n",
              "      <td>2020-10-07</td>\n",
              "      <td>13:19:00</td>\n",
              "      <td>응 한 10명</td>\n",
              "      <td>U3</td>\n",
              "      <td>여성</td>\n",
              "      <td>2020</td>\n",
              "      <td>10</td>\n",
              "      <td>7</td>\n",
              "      <td>Wednesday</td>\n",
              "    </tr>\n",
              "    <tr>\n",
              "      <th>2</th>\n",
              "      <td>2020-10-07</td>\n",
              "      <td>13:19:00</td>\n",
              "      <td>프로그램 다운이 안 됐대</td>\n",
              "      <td>U4</td>\n",
              "      <td>여성</td>\n",
              "      <td>2020</td>\n",
              "      <td>10</td>\n",
              "      <td>7</td>\n",
              "      <td>Wednesday</td>\n",
              "    </tr>\n",
              "    <tr>\n",
              "      <th>3</th>\n",
              "      <td>2020-10-07</td>\n",
              "      <td>13:19:00</td>\n",
              "      <td>아</td>\n",
              "      <td>U5</td>\n",
              "      <td>남성</td>\n",
              "      <td>2020</td>\n",
              "      <td>10</td>\n",
              "      <td>7</td>\n",
              "      <td>Wednesday</td>\n",
              "    </tr>\n",
              "    <tr>\n",
              "      <th>4</th>\n",
              "      <td>2020-10-07</td>\n",
              "      <td>13:19:00</td>\n",
              "      <td>강제로 쉬는 시간</td>\n",
              "      <td>U6</td>\n",
              "      <td>여성</td>\n",
              "      <td>2020</td>\n",
              "      <td>10</td>\n",
              "      <td>7</td>\n",
              "      <td>Wednesday</td>\n",
              "    </tr>\n",
              "  </tbody>\n",
              "</table>\n",
              "</div>"
            ],
            "text/plain": [
              "        date      time        message user gender  year  month  day    weekday\n",
              "0 2020-10-07  13:18:00   여러 명 같이 하나보네   U1     여성  2020     10    7  Wednesday\n",
              "1 2020-10-07  13:19:00        응 한 10명   U3     여성  2020     10    7  Wednesday\n",
              "2 2020-10-07  13:19:00  프로그램 다운이 안 됐대   U4     여성  2020     10    7  Wednesday\n",
              "3 2020-10-07  13:19:00              아   U5     남성  2020     10    7  Wednesday\n",
              "4 2020-10-07  13:19:00      강제로 쉬는 시간   U6     여성  2020     10    7  Wednesday"
            ]
          },
          "metadata": {},
          "execution_count": 97
        }
      ]
    },
    {
      "cell_type": "code",
      "metadata": {
        "id": "TMo30YzRTCqy"
      },
      "source": [
        ""
      ],
      "execution_count": null,
      "outputs": []
    },
    {
      "cell_type": "code",
      "metadata": {
        "id": "MAOjasqoWI_p"
      },
      "source": [
        "df_X=data.message\n",
        "df_Y=data.gender"
      ],
      "execution_count": null,
      "outputs": []
    },
    {
      "cell_type": "code",
      "metadata": {
        "id": "kIsnYovVUi3c"
      },
      "source": [
        "from sklearn.model_selection import train_test_split\n",
        "\n",
        "train_X, test_X, train_Y, test_Y = train_test_split(df_X, df_Y, train_size=0.8, test_size=0.2, random_state=123)"
      ],
      "execution_count": null,
      "outputs": []
    },
    {
      "cell_type": "code",
      "metadata": {
        "colab": {
          "base_uri": "https://localhost:8080/"
        },
        "id": "iL96CldwCpZy",
        "outputId": "094ff648-41a7-47f3-a488-ac1ec0cbf1d0"
      },
      "source": [
        "from sklearn.feature_extraction.text import CountVectorizer\n",
        "tdmvector = CountVectorizer()\n",
        "X_train_tdm = tdmvector.fit_transform(train_X)\n",
        "print(X_train_tdm.shape)"
      ],
      "execution_count": null,
      "outputs": [
        {
          "output_type": "stream",
          "name": "stdout",
          "text": [
            "(883047, 646767)\n"
          ]
        }
      ]
    },
    {
      "cell_type": "code",
      "metadata": {
        "colab": {
          "base_uri": "https://localhost:8080/"
        },
        "id": "RYAq5F7ACpfd",
        "outputId": "1ee8f2e2-726e-43ff-b624-abaa4ac93e58"
      },
      "source": [
        "from sklearn.feature_extraction.text import TfidfTransformer\n",
        "tfidf_transformer = TfidfTransformer()\n",
        "tfidfv = tfidf_transformer.fit_transform(X_train_tdm)\n",
        "print(X_train_tdm.shape)"
      ],
      "execution_count": null,
      "outputs": [
        {
          "output_type": "stream",
          "name": "stdout",
          "text": [
            "(883047, 646767)\n"
          ]
        }
      ]
    },
    {
      "cell_type": "code",
      "metadata": {
        "colab": {
          "base_uri": "https://localhost:8080/"
        },
        "id": "sq4LWejUCpjp",
        "outputId": "309b95c3-a6db-400c-80ab-8597242885d4"
      },
      "source": [
        "from sklearn.naive_bayes import MultinomialNB\n",
        "mod = MultinomialNB()\n",
        "mod.fit(tfidfv, train_Y)"
      ],
      "execution_count": null,
      "outputs": [
        {
          "output_type": "execute_result",
          "data": {
            "text/plain": [
              "MultinomialNB(alpha=1.0, class_prior=None, fit_prior=True)"
            ]
          },
          "metadata": {},
          "execution_count": 105
        }
      ]
    },
    {
      "cell_type": "code",
      "metadata": {
        "colab": {
          "base_uri": "https://localhost:8080/"
        },
        "id": "aFi7zZFfCpn6",
        "outputId": "dc54caa0-e0e3-4fad-a5a5-114add3cf08a"
      },
      "source": [
        "from sklearn.metrics import accuracy_score\n",
        "\n",
        "# 테스트 데이터 갖고오기\n",
        "X_test_tdm = tdmvector.transform(test_X)\n",
        "# 테스트 데이터를 TDM으로 변환\n",
        "tfidfv_test = tfidf_transformer.transform(X_test_tdm)\n",
        "# TDM을 TF-IDF 행렬로 변환\n",
        "predicted = mod.predict(tfidfv_test)\n",
        "# 테스트 데이터에 대한 예측\n",
        "print('정확도:', accuracy_score(test_Y, predicted))"
      ],
      "execution_count": null,
      "outputs": [
        {
          "output_type": "stream",
          "name": "stdout",
          "text": [
            "정확도: 0.8823982388273344\n"
          ]
        }
      ]
    },
    {
      "cell_type": "code",
      "metadata": {
        "id": "ByGlm7z_CpsS"
      },
      "source": [
        ""
      ],
      "execution_count": null,
      "outputs": []
    },
    {
      "cell_type": "code",
      "metadata": {
        "id": "YkvHqbpfCpwQ"
      },
      "source": [
        ""
      ],
      "execution_count": null,
      "outputs": []
    },
    {
      "cell_type": "code",
      "metadata": {
        "id": "l5A0oE2oCp0p"
      },
      "source": [
        ""
      ],
      "execution_count": null,
      "outputs": []
    },
    {
      "cell_type": "code",
      "metadata": {
        "id": "Pv2nKoToCp41"
      },
      "source": [
        ""
      ],
      "execution_count": null,
      "outputs": []
    },
    {
      "cell_type": "code",
      "metadata": {
        "id": "dIClDr90Cp80"
      },
      "source": [
        ""
      ],
      "execution_count": null,
      "outputs": []
    },
    {
      "cell_type": "code",
      "metadata": {
        "id": "M8wG63O-CqA7"
      },
      "source": [
        ""
      ],
      "execution_count": null,
      "outputs": []
    },
    {
      "cell_type": "code",
      "metadata": {
        "id": "TPA50ejzCqEn"
      },
      "source": [
        ""
      ],
      "execution_count": null,
      "outputs": []
    },
    {
      "cell_type": "code",
      "metadata": {
        "id": "rZNCjkiZCqId"
      },
      "source": [
        ""
      ],
      "execution_count": null,
      "outputs": []
    },
    {
      "cell_type": "code",
      "metadata": {
        "id": "VaUzluFZCqML"
      },
      "source": [
        ""
      ],
      "execution_count": null,
      "outputs": []
    },
    {
      "cell_type": "code",
      "metadata": {
        "id": "X2piIuxcCqP4"
      },
      "source": [
        ""
      ],
      "execution_count": null,
      "outputs": []
    },
    {
      "cell_type": "code",
      "metadata": {
        "id": "12VOHm0aCqTr"
      },
      "source": [
        ""
      ],
      "execution_count": null,
      "outputs": []
    },
    {
      "cell_type": "code",
      "metadata": {
        "id": "2-AR-_qwCqXR"
      },
      "source": [
        ""
      ],
      "execution_count": null,
      "outputs": []
    },
    {
      "cell_type": "code",
      "metadata": {
        "id": "az0J91MNCqa6"
      },
      "source": [
        ""
      ],
      "execution_count": null,
      "outputs": []
    },
    {
      "cell_type": "code",
      "metadata": {
        "id": "GkFGYBQXCqeo"
      },
      "source": [
        ""
      ],
      "execution_count": null,
      "outputs": []
    },
    {
      "cell_type": "code",
      "metadata": {
        "id": "RhR4rw2BCqiV"
      },
      "source": [
        ""
      ],
      "execution_count": null,
      "outputs": []
    },
    {
      "cell_type": "code",
      "metadata": {
        "id": "hdWDX7WFCqmc"
      },
      "source": [
        ""
      ],
      "execution_count": null,
      "outputs": []
    },
    {
      "cell_type": "code",
      "metadata": {
        "id": "FsC7hK6NCqqD"
      },
      "source": [
        ""
      ],
      "execution_count": null,
      "outputs": []
    }
  ]
}