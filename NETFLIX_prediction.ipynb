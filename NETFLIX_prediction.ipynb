{
  "nbformat": 4,
  "nbformat_minor": 0,
  "metadata": {
    "colab": {
      "name": "NETFLIX_prediction.ipynb",
      "provenance": [],
      "collapsed_sections": [],
      "authorship_tag": "ABX9TyPOwg6zqpbhfxFNwHIE7O9V"
    },
    "kernelspec": {
      "name": "python3",
      "display_name": "Python 3"
    },
    "language_info": {
      "name": "python"
    }
  },
  "cells": [
    {
      "cell_type": "code",
      "metadata": {
        "colab": {
          "base_uri": "https://localhost:8080/"
        },
        "id": "QK0si4aSX-Hq",
        "outputId": "d69d8de4-c8e3-47ce-aab4-8892dc3f821b"
      },
      "source": [
        "from google.colab import drive\n",
        "drive.mount('/content/drive')"
      ],
      "execution_count": null,
      "outputs": [
        {
          "output_type": "stream",
          "name": "stdout",
          "text": [
            "Drive already mounted at /content/drive; to attempt to forcibly remount, call drive.mount(\"/content/drive\", force_remount=True).\n"
          ]
        }
      ]
    },
    {
      "cell_type": "code",
      "metadata": {
        "id": "xQbOumghYCjx"
      },
      "source": [
        "import numpy as np \n",
        "import random\n",
        "import pandas as pd \n",
        "import matplotlib.pyplot as plt\n",
        "from pandas import datetime\n",
        "import math, time\n",
        "import itertools\n",
        "from sklearn import preprocessing\n",
        "from sklearn.preprocessing import MinMaxScaler\n",
        "import datetime\n",
        "from operator import itemgetter\n",
        "from sklearn.metrics import mean_squared_error\n",
        "from math import sqrt\n",
        "import torch\n",
        "import torch.nn as nn\n",
        "from torch.autograd import Variable"
      ],
      "execution_count": null,
      "outputs": []
    },
    {
      "cell_type": "code",
      "metadata": {
        "colab": {
          "base_uri": "https://localhost:8080/",
          "height": 206
        },
        "id": "0NF9ZBrVYDUE",
        "outputId": "d9c097c3-a635-4df5-b943-8f10ad864d49"
      },
      "source": [
        "#불러올 파일의 경로를 filename 변수에 저장\n",
        "tes = '/content/drive/MyDrive/data/test.csv'\n",
        "trai = '/content/drive/MyDrive/data/train.csv'\n",
        "\n",
        "#pandas read_csv로 불러오기\n",
        "test = pd.read_csv(tes)\n",
        "train = pd.read_csv(trai)\n",
        "test.head()"
      ],
      "execution_count": null,
      "outputs": [
        {
          "output_type": "execute_result",
          "data": {
            "text/html": [
              "<div>\n",
              "<style scoped>\n",
              "    .dataframe tbody tr th:only-of-type {\n",
              "        vertical-align: middle;\n",
              "    }\n",
              "\n",
              "    .dataframe tbody tr th {\n",
              "        vertical-align: top;\n",
              "    }\n",
              "\n",
              "    .dataframe thead th {\n",
              "        text-align: right;\n",
              "    }\n",
              "</style>\n",
              "<table border=\"1\" class=\"dataframe\">\n",
              "  <thead>\n",
              "    <tr style=\"text-align: right;\">\n",
              "      <th></th>\n",
              "      <th>Date</th>\n",
              "      <th>Open</th>\n",
              "      <th>High</th>\n",
              "      <th>Low</th>\n",
              "      <th>Volume</th>\n",
              "    </tr>\n",
              "  </thead>\n",
              "  <tbody>\n",
              "    <tr>\n",
              "      <th>0</th>\n",
              "      <td>2019-10-21</td>\n",
              "      <td>273</td>\n",
              "      <td>280</td>\n",
              "      <td>269</td>\n",
              "      <td>12599200</td>\n",
              "    </tr>\n",
              "    <tr>\n",
              "      <th>1</th>\n",
              "      <td>2019-10-22</td>\n",
              "      <td>271</td>\n",
              "      <td>275</td>\n",
              "      <td>266</td>\n",
              "      <td>11802400</td>\n",
              "    </tr>\n",
              "    <tr>\n",
              "      <th>2</th>\n",
              "      <td>2019-10-23</td>\n",
              "      <td>268</td>\n",
              "      <td>274</td>\n",
              "      <td>267</td>\n",
              "      <td>7133500</td>\n",
              "    </tr>\n",
              "    <tr>\n",
              "      <th>3</th>\n",
              "      <td>2019-10-24</td>\n",
              "      <td>272</td>\n",
              "      <td>274</td>\n",
              "      <td>269</td>\n",
              "      <td>4827400</td>\n",
              "    </tr>\n",
              "    <tr>\n",
              "      <th>4</th>\n",
              "      <td>2019-10-25</td>\n",
              "      <td>271</td>\n",
              "      <td>278</td>\n",
              "      <td>270</td>\n",
              "      <td>4747800</td>\n",
              "    </tr>\n",
              "  </tbody>\n",
              "</table>\n",
              "</div>"
            ],
            "text/plain": [
              "         Date  Open  High  Low    Volume\n",
              "0  2019-10-21   273   280  269  12599200\n",
              "1  2019-10-22   271   275  266  11802400\n",
              "2  2019-10-23   268   274  267   7133500\n",
              "3  2019-10-24   272   274  269   4827400\n",
              "4  2019-10-25   271   278  270   4747800"
            ]
          },
          "metadata": {},
          "execution_count": 72
        }
      ]
    },
    {
      "cell_type": "code",
      "metadata": {
        "colab": {
          "base_uri": "https://localhost:8080/"
        },
        "id": "uhhkubtTiFYo",
        "outputId": "36692e42-9c41-462d-998a-fc148e4f1c9d"
      },
      "source": [
        "price = train[['Close']]\n",
        "price.info()"
      ],
      "execution_count": null,
      "outputs": [
        {
          "output_type": "stream",
          "name": "stdout",
          "text": [
            "<class 'pandas.core.frame.DataFrame'>\n",
            "RangeIndex: 967 entries, 0 to 966\n",
            "Data columns (total 1 columns):\n",
            " #   Column  Non-Null Count  Dtype\n",
            "---  ------  --------------  -----\n",
            " 0   Close   967 non-null    int64\n",
            "dtypes: int64(1)\n",
            "memory usage: 7.7 KB\n"
          ]
        }
      ]
    },
    {
      "cell_type": "code",
      "metadata": {
        "colab": {
          "base_uri": "https://localhost:8080/"
        },
        "id": "TIjmhHrFiJrk",
        "outputId": "af6361ce-bd65-4bb8-9ba9-ee79b41bf099"
      },
      "source": [
        "from sklearn.preprocessing import MinMaxScaler\n",
        "\n",
        "scaler = MinMaxScaler(feature_range=(-1, 1))\n",
        "price['Close'] = scaler.fit_transform(price['Close'].values.reshape(-1,1))"
      ],
      "execution_count": null,
      "outputs": [
        {
          "output_type": "stream",
          "name": "stderr",
          "text": [
            "/usr/local/lib/python3.7/dist-packages/ipykernel_launcher.py:4: SettingWithCopyWarning: \n",
            "A value is trying to be set on a copy of a slice from a DataFrame.\n",
            "Try using .loc[row_indexer,col_indexer] = value instead\n",
            "\n",
            "See the caveats in the documentation: https://pandas.pydata.org/pandas-docs/stable/user_guide/indexing.html#returning-a-view-versus-a-copy\n",
            "  after removing the cwd from sys.path.\n"
          ]
        }
      ]
    },
    {
      "cell_type": "code",
      "metadata": {
        "id": "Ts0hC5O_PyV5"
      },
      "source": [
        "def split_data(stock, lookback):\n",
        "    data_raw = stock.to_numpy() # convert to numpy array\n",
        "    data = []\n",
        "    \n",
        "    # create all possible sequences of length seq_len\n",
        "    for index in range(len(data_raw) - lookback): \n",
        "        data.append(data_raw[index: index + lookback])\n",
        "    \n",
        "    data = np.array(data);\n",
        "    test_set_size = int(np.round(0.2*data.shape[0]));\n",
        "    train_set_size = data.shape[0] - (test_set_size);\n",
        "    \n",
        "    x_train = data[:train_set_size,:-1,:]\n",
        "    y_train = data[:train_set_size,-1,:]\n",
        "    \n",
        "    x_test = data[train_set_size:,:-1]\n",
        "    y_test = data[train_set_size:,-1,:]\n",
        "    \n",
        "    return [x_train, y_train, x_test, y_test]"
      ],
      "execution_count": null,
      "outputs": []
    },
    {
      "cell_type": "code",
      "metadata": {
        "colab": {
          "base_uri": "https://localhost:8080/"
        },
        "id": "CZF2pGUPPyIG",
        "outputId": "e05d3f51-7777-4f70-96b6-efb84548b5c0"
      },
      "source": [
        "lookback = 20 # choose sequence length\n",
        "x_train, y_train, x_test, y_test = split_data(price, lookback)\n",
        "print('x_train.shape = ',x_train.shape)\n",
        "print('y_train.shape = ',y_train.shape)\n",
        "print('x_test.shape = ',x_test.shape)\n",
        "print('y_test.shape = ',y_test.shape)"
      ],
      "execution_count": null,
      "outputs": [
        {
          "output_type": "stream",
          "name": "stdout",
          "text": [
            "x_train.shape =  (758, 19, 1)\n",
            "y_train.shape =  (758, 1)\n",
            "x_test.shape =  (189, 19, 1)\n",
            "y_test.shape =  (189, 1)\n"
          ]
        }
      ]
    },
    {
      "cell_type": "code",
      "metadata": {
        "id": "1e5SFGQlYDa9"
      },
      "source": [
        "x_train = torch.from_numpy(x_train).type(torch.Tensor)\n",
        "x_test = torch.from_numpy(x_test).type(torch.Tensor)\n",
        "y_train_lstm = torch.from_numpy(y_train).type(torch.Tensor)\n",
        "y_test_lstm = torch.from_numpy(y_test).type(torch.Tensor)\n",
        "y_train_gru = torch.from_numpy(y_train).type(torch.Tensor)\n",
        "y_test_gru = torch.from_numpy(y_test).type(torch.Tensor)"
      ],
      "execution_count": null,
      "outputs": []
    },
    {
      "cell_type": "code",
      "metadata": {
        "id": "NpMYq8pZYDeU"
      },
      "source": [
        "input_dim = 1\n",
        "hidden_dim = 32\n",
        "num_layers = 2\n",
        "output_dim = 1\n",
        "num_epochs = 100"
      ],
      "execution_count": null,
      "outputs": []
    },
    {
      "cell_type": "code",
      "metadata": {
        "id": "6JSMS0FOYDhr"
      },
      "source": [
        "class LSTM(nn.Module):\n",
        "    def __init__(self, input_dim, hidden_dim, num_layers, output_dim):\n",
        "        super(LSTM, self).__init__()\n",
        "        self.hidden_dim = hidden_dim\n",
        "        self.num_layers = num_layers\n",
        "        \n",
        "        self.lstm = nn.LSTM(input_dim, hidden_dim, num_layers, batch_first=True)\n",
        "        self.fc = nn.Linear(hidden_dim, output_dim)\n",
        "\n",
        "    def forward(self, x):\n",
        "        h0 = torch.zeros(self.num_layers, x.size(0), self.hidden_dim).requires_grad_()\n",
        "        c0 = torch.zeros(self.num_layers, x.size(0), self.hidden_dim).requires_grad_()\n",
        "        out, (hn, cn) = self.lstm(x, (h0.detach(), c0.detach()))\n",
        "        out = self.fc(out[:, -1, :]) \n",
        "        return out"
      ],
      "execution_count": null,
      "outputs": []
    },
    {
      "cell_type": "code",
      "metadata": {
        "id": "8HDuUbqrdOJV"
      },
      "source": [
        "model = LSTM(input_dim=input_dim, hidden_dim=hidden_dim, output_dim=output_dim, num_layers=num_layers)\n",
        "criterion = torch.nn.MSELoss(reduction='mean')\n",
        "optimiser = torch.optim.Adam(model.parameters(), lr=0.01)"
      ],
      "execution_count": null,
      "outputs": []
    },
    {
      "cell_type": "code",
      "metadata": {
        "colab": {
          "base_uri": "https://localhost:8080/"
        },
        "id": "VD_2_oZlYDlV",
        "outputId": "d94e57c3-f15f-4644-940c-aa945ceb0033"
      },
      "source": [
        "import time\n",
        "\n",
        "hist = np.zeros(num_epochs)\n",
        "start_time = time.time()\n",
        "lstm = []\n",
        "\n",
        "for t in range(num_epochs):\n",
        "    y_train_pred = model(x_train)\n",
        "\n",
        "    loss = criterion(y_train_pred, y_train_lstm)\n",
        "    print(\"Epoch \", t, \"MSE: \", loss.item())\n",
        "    hist[t] = loss.item()\n",
        "\n",
        "    optimiser.zero_grad()\n",
        "    loss.backward()\n",
        "    optimiser.step()\n",
        "    \n",
        "training_time = time.time()-start_time\n",
        "print(\"Training time: {}\".format(training_time))"
      ],
      "execution_count": null,
      "outputs": [
        {
          "output_type": "stream",
          "name": "stdout",
          "text": [
            "Epoch  0 MSE:  0.5579915046691895\n",
            "Epoch  1 MSE:  0.4295392334461212\n",
            "Epoch  2 MSE:  0.3190212845802307\n",
            "Epoch  3 MSE:  0.3241386115550995\n",
            "Epoch  4 MSE:  0.26280635595321655\n",
            "Epoch  5 MSE:  0.20305708050727844\n",
            "Epoch  6 MSE:  0.1670086532831192\n",
            "Epoch  7 MSE:  0.11468110978603363\n",
            "Epoch  8 MSE:  0.06958875060081482\n",
            "Epoch  9 MSE:  0.08160582184791565\n",
            "Epoch  10 MSE:  0.041157182306051254\n",
            "Epoch  11 MSE:  0.057464856654405594\n",
            "Epoch  12 MSE:  0.05253975838422775\n",
            "Epoch  13 MSE:  0.03191202133893967\n",
            "Epoch  14 MSE:  0.03211262822151184\n",
            "Epoch  15 MSE:  0.03276902437210083\n",
            "Epoch  16 MSE:  0.024663351476192474\n",
            "Epoch  17 MSE:  0.022640559822320938\n",
            "Epoch  18 MSE:  0.028253847733139992\n",
            "Epoch  19 MSE:  0.032622091472148895\n",
            "Epoch  20 MSE:  0.031013675034046173\n",
            "Epoch  21 MSE:  0.025492465123534203\n",
            "Epoch  22 MSE:  0.02073727920651436\n",
            "Epoch  23 MSE:  0.019519513472914696\n",
            "Epoch  24 MSE:  0.02030092105269432\n",
            "Epoch  25 MSE:  0.019107921048998833\n",
            "Epoch  26 MSE:  0.015064035542309284\n",
            "Epoch  27 MSE:  0.012008069083094597\n",
            "Epoch  28 MSE:  0.012332524172961712\n",
            "Epoch  29 MSE:  0.012962695211172104\n",
            "Epoch  30 MSE:  0.01070726104080677\n",
            "Epoch  31 MSE:  0.007784985471516848\n",
            "Epoch  32 MSE:  0.008057992905378342\n",
            "Epoch  33 MSE:  0.009602371603250504\n",
            "Epoch  34 MSE:  0.008137378841638565\n",
            "Epoch  35 MSE:  0.005792466923594475\n",
            "Epoch  36 MSE:  0.005987698212265968\n",
            "Epoch  37 MSE:  0.006687706336379051\n",
            "Epoch  38 MSE:  0.005710629280656576\n",
            "Epoch  39 MSE:  0.004795795306563377\n",
            "Epoch  40 MSE:  0.0053289406932890415\n",
            "Epoch  41 MSE:  0.0055082920007407665\n",
            "Epoch  42 MSE:  0.004721327219158411\n",
            "Epoch  43 MSE:  0.004688691347837448\n",
            "Epoch  44 MSE:  0.005308098625391722\n",
            "Epoch  45 MSE:  0.005135613027960062\n",
            "Epoch  46 MSE:  0.004421308171004057\n",
            "Epoch  47 MSE:  0.004445493686944246\n",
            "Epoch  48 MSE:  0.004822597373276949\n",
            "Epoch  49 MSE:  0.00438267458230257\n",
            "Epoch  50 MSE:  0.0038346485234797\n",
            "Epoch  51 MSE:  0.004027264658361673\n",
            "Epoch  52 MSE:  0.004168928135186434\n",
            "Epoch  53 MSE:  0.0037920454051345587\n",
            "Epoch  54 MSE:  0.0036445562727749348\n",
            "Epoch  55 MSE:  0.0038589169271290302\n",
            "Epoch  56 MSE:  0.0037585683166980743\n",
            "Epoch  57 MSE:  0.003578565316274762\n",
            "Epoch  58 MSE:  0.003704583737999201\n",
            "Epoch  59 MSE:  0.003698142943903804\n",
            "Epoch  60 MSE:  0.0034779892303049564\n",
            "Epoch  61 MSE:  0.0034821140579879284\n",
            "Epoch  62 MSE:  0.003565581049770117\n",
            "Epoch  63 MSE:  0.003413986414670944\n",
            "Epoch  64 MSE:  0.003312497166916728\n",
            "Epoch  65 MSE:  0.0033731432631611824\n",
            "Epoch  66 MSE:  0.0033356319181621075\n",
            "Epoch  67 MSE:  0.0032431543804705143\n",
            "Epoch  68 MSE:  0.0032635480165481567\n",
            "Epoch  69 MSE:  0.00326371006667614\n",
            "Epoch  70 MSE:  0.0031884710770100355\n",
            "Epoch  71 MSE:  0.0031855027191340923\n",
            "Epoch  72 MSE:  0.003205986926332116\n",
            "Epoch  73 MSE:  0.0031453664414584637\n",
            "Epoch  74 MSE:  0.003102750051766634\n",
            "Epoch  75 MSE:  0.0031200964003801346\n",
            "Epoch  76 MSE:  0.003090687096118927\n",
            "Epoch  77 MSE:  0.003038688562810421\n",
            "Epoch  78 MSE:  0.0030364426784217358\n",
            "Epoch  79 MSE:  0.0030248730909079313\n",
            "Epoch  80 MSE:  0.0029874276369810104\n",
            "Epoch  81 MSE:  0.002979784971103072\n",
            "Epoch  82 MSE:  0.00297253648750484\n",
            "Epoch  83 MSE:  0.0029423015657812357\n",
            "Epoch  84 MSE:  0.002934209071099758\n",
            "Epoch  85 MSE:  0.0029301955364644527\n",
            "Epoch  86 MSE:  0.0029021778609603643\n",
            "Epoch  87 MSE:  0.0028874550480395555\n",
            "Epoch  88 MSE:  0.0028834394179284573\n",
            "Epoch  89 MSE:  0.002861060667783022\n",
            "Epoch  90 MSE:  0.002843925729393959\n",
            "Epoch  91 MSE:  0.002836872125044465\n",
            "Epoch  92 MSE:  0.0028193166945129633\n",
            "Epoch  93 MSE:  0.002804612508043647\n",
            "Epoch  94 MSE:  0.0027963100001215935\n",
            "Epoch  95 MSE:  0.0027801524847745895\n",
            "Epoch  96 MSE:  0.0027670105919241905\n",
            "Epoch  97 MSE:  0.0027586068026721478\n",
            "Epoch  98 MSE:  0.002742861630395055\n",
            "Epoch  99 MSE:  0.002728997031226754\n",
            "Training time: 8.635328531265259\n"
          ]
        }
      ]
    },
    {
      "cell_type": "code",
      "metadata": {
        "id": "xGB8gyVOYDo-"
      },
      "source": [
        "predict = pd.DataFrame(scaler.inverse_transform(y_train_pred.detach().numpy()))\n",
        "original = pd.DataFrame(scaler.inverse_transform(y_train_lstm.detach().numpy()))"
      ],
      "execution_count": null,
      "outputs": []
    },
    {
      "cell_type": "code",
      "metadata": {
        "colab": {
          "base_uri": "https://localhost:8080/",
          "height": 409
        },
        "id": "1MrAm1gnYDsU",
        "outputId": "4a6ceb6f-8054-41f5-8791-742be075865b"
      },
      "source": [
        "import seaborn as sns\n",
        "sns.set_style(\"darkgrid\")    \n",
        "\n",
        "fig = plt.figure()\n",
        "fig.subplots_adjust(hspace=0.2, wspace=0.2)\n",
        "\n",
        "plt.subplot(1, 2, 1)\n",
        "ax = sns.lineplot(x = original.index, y = original[0], label=\"Data\", color='royalblue')\n",
        "ax = sns.lineplot(x = predict.index, y = predict[0], label=\"Training Prediction (LSTM)\", color='tomato')\n",
        "ax.set_title('Stock price', size = 14, fontweight='bold')\n",
        "ax.set_xlabel(\"Days\", size = 14)\n",
        "ax.set_ylabel(\"Cost (USD)\", size = 14)\n",
        "ax.set_xticklabels('', size=10)\n",
        "\n",
        "\n",
        "plt.subplot(1, 2, 2)\n",
        "ax = sns.lineplot(data=hist, color='royalblue')\n",
        "ax.set_xlabel(\"Epoch\", size = 14)\n",
        "ax.set_ylabel(\"Loss\", size = 14)\n",
        "ax.set_title(\"Training Loss\", size = 14, fontweight='bold')\n",
        "fig.set_figheight(6)\n",
        "fig.set_figwidth(16)"
      ],
      "execution_count": null,
      "outputs": [
        {
          "output_type": "display_data",
          "data": {
            "image/png": "[encoded data removed]",
            "text/plain": [
              "<Figure size 1152x432 with 2 Axes>"
            ]
          },
          "metadata": {}
        }
      ]
    },
    {
      "cell_type": "code",
      "metadata": {
        "colab": {
          "base_uri": "https://localhost:8080/"
        },
        "id": "nwgw4bXJYDv_",
        "outputId": "0eb41545-9522-4906-d38f-b55be432db16"
      },
      "source": [
        "import math, time\n",
        "from sklearn.metrics import mean_squared_error\n",
        "\n",
        "# make predictions\n",
        "y_test_pred = model(x_test)\n",
        "\n",
        "# invert predictions\n",
        "y_train_pred = scaler.inverse_transform(y_train_pred.detach().numpy())\n",
        "y_train = scaler.inverse_transform(y_train_lstm.detach().numpy())\n",
        "y_test_pred = scaler.inverse_transform(y_test_pred.detach().numpy())\n",
        "y_test = scaler.inverse_transform(y_test_lstm.detach().numpy())\n",
        "\n",
        "# calculate root mean squared error\n",
        "trainScore = math.sqrt(mean_squared_error(y_train[:,0], y_train_pred[:,0]))\n",
        "print('Train Score: %.2f RMSE' % (trainScore))\n",
        "testScore = math.sqrt(mean_squared_error(y_test[:,0], y_test_pred[:,0]))\n",
        "print('Test Score: %.2f RMSE' % (testScore))\n",
        "lstm.append(trainScore)\n",
        "lstm.append(testScore)\n",
        "lstm.append(training_time)"
      ],
      "execution_count": null,
      "outputs": [
        {
          "output_type": "stream",
          "name": "stdout",
          "text": [
            "Train Score: 6.90 RMSE\n",
            "Test Score: 8.29 RMSE\n"
          ]
        }
      ]
    },
    {
      "cell_type": "code",
      "metadata": {
        "id": "DVwyNaNdYDzk"
      },
      "source": [
        "trainPredictPlot = np.empty_like(price)\n",
        "trainPredictPlot[:, :] = np.nan\n",
        "trainPredictPlot[lookback:len(y_train_pred)+lookback, :] = y_train_pred\n",
        "\n",
        "# shift test predictions for plotting\n",
        "testPredictPlot = np.empty_like(price)\n",
        "testPredictPlot[:, :] = np.nan\n",
        "testPredictPlot[len(y_train_pred)+lookback-1:len(price)-1, :] = y_test_pred\n",
        "\n",
        "original = scaler.inverse_transform(price['Close'].values.reshape(-1,1))\n",
        "\n",
        "predictions = np.append(trainPredictPlot, testPredictPlot, axis=1)\n",
        "predictions = np.append(predictions, original, axis=1)\n",
        "result = pd.DataFrame(predictions)"
      ],
      "execution_count": null,
      "outputs": []
    },
    {
      "cell_type": "code",
      "metadata": {
        "colab": {
          "base_uri": "https://localhost:8080/",
          "height": 542
        },
        "id": "QKrIt2N_YD24",
        "outputId": "9e786960-c0ed-4d35-e0fc-a8a42f216796"
      },
      "source": [
        "import plotly.graph_objects as go\n",
        "\n",
        "fig = go.Figure()\n",
        "fig.add_trace(go.Scatter(go.Scatter(x=result.index, y=result[0],\n",
        "                    mode='lines',\n",
        "                    name='Train prediction')))\n",
        "fig.add_trace(go.Scatter(x=result.index, y=result[1],\n",
        "                    mode='lines',\n",
        "                    name='Test prediction'))\n",
        "fig.add_trace(go.Scatter(go.Scatter(x=result.index, y=result[2],\n",
        "                    mode='lines',\n",
        "                    name='Actual Value')))\n",
        "fig.update_layout(\n",
        "    xaxis=dict(\n",
        "        showline=True,\n",
        "        showgrid=True,\n",
        "        showticklabels=False,\n",
        "        linecolor='white',\n",
        "        linewidth=2\n",
        "    ),\n",
        "    yaxis=dict(\n",
        "        title_text='Close (USD)',\n",
        "        titlefont=dict(\n",
        "            family='Rockwell',\n",
        "            size=12,\n",
        "            color='white',\n",
        "        ),\n",
        "        showline=True,\n",
        "        showgrid=True,\n",
        "        showticklabels=True,\n",
        "        linecolor='white',\n",
        "        linewidth=2,\n",
        "        ticks='outside',\n",
        "        tickfont=dict(\n",
        "            family='Rockwell',\n",
        "            size=12,\n",
        "            color='white',\n",
        "        ),\n",
        "    ),\n",
        "    showlegend=True,\n",
        "    template = 'plotly_dark'\n",
        "\n",
        ")\n",
        "\n",
        "\n",
        "\n",
        "annotations = []\n",
        "annotations.append(dict(xref='paper', yref='paper', x=0.0, y=1.05,\n",
        "                              xanchor='left', yanchor='bottom',\n",
        "                              text='Results (LSTM)',\n",
        "                              font=dict(family='Rockwell',\n",
        "                                        size=26,\n",
        "                                        color='white'),\n",
        "                              showarrow=False))\n",
        "fig.update_layout(annotations=annotations)\n",
        "\n",
        "fig.show()"
      ],
      "execution_count": null,
      "outputs": [
        {
          "output_type": "display_data",
          "data": {
            "text/html": [
              "<html>\n",
              "<head><meta charset=\"utf-8\" /></head>\n",
              "<body>\n",
              "    <div>\n",
              "            <script src=\"https://cdnjs.cloudflare.com/ajax/libs/mathjax/2.7.5/MathJax.js?config=TeX-AMS-MML_SVG\"></script><script type=\"text/javascript\">if (window.MathJax) {MathJax.Hub.Config({SVG: {font: \"STIX-Web\"}});}</script>\n",
              "                <script type=\"text/javascript\">window.PlotlyConfig = {MathJaxConfig: 'local'};</script>\n",
              "        <script src=\"https://cdn.plot.ly/plotly-latest.min.js\"></script>    \n",
              "            <div id=\"a4459494-2e15-4922-9c5a-76cd8cf2cffc\" class=\"plotly-graph-div\" style=\"height:525px; width:100%;\"></div>\n",
              "            <script type=\"text/javascript\">\n",
              "                \n",
              "                    window.PLOTLYENV=window.PLOTLYENV || {};\n",
              "                    \n",
              "                if (document.getElementById(\"a4459494-2e15-4922-9c5a-76cd8cf2cffc\")) {\n",
              "                    Plotly.newPlot(\n",
              "                        'a4459494-2e15-4922-9c5a-76cd8cf2cffc',\n",
              "                        [{\"mode\": \"lines\", \"name\": \"Train prediction\", \"type\": \"scatter\", \"x\": [0, 1, 2, 3, 4, 5, 6, 7, 8, 9, 10, 11, 12, 13, 14, 15, 16, 17, 18, 19, 20, 21, 22, 23, 24, 25, 26, 27, 28, 29, 30, 31, 32, 33, 34, 35, 36, 37, 38, 39, 40, 41, 42, 43, 44, 45, 46, 47, 48, 49, 50, 51, 52, 53, 54, 55, 56, 57, 58, 59, 60, 61, 62, 63, 64, 65, 66, 67, 68, 69, 70, 71, 72, 73, 74, 75, 76, 77, 78, 79, 80, 81, 82, 83, 84, 85, 86, 87, 88, 89, 90, 91, 92, 93, 94, 95, 96, 97, 98, 99, 100, 101, 102, 103, 104, 105, 106, 107, 108, 109, 110, 111, 112, 113, 114, 115, 116, 117, 118, 119, 120, 121, 122, 123, 124, 125, 126, 127, 128, 129, 130, 131, 132, 133, 134, 135, 136, 137, 138, 139, 140, 141, 142, 143, 144, 145, 146, 147, 148, 149, 150, 151, 152, 153, 154, 155, 156, 157, 158, 159, 160, 161, 162, 163, 164, 165, 166, 167, 168, 169, 170, 171, 172, 173, 174, 175, 176, 177, 178, 179, 180, 181, 182, 183, 184, 185, 186, 187, 188, 189, 190, 191, 192, 193, 194, 195, 196, 197, 198, 199, 200, 201, 202, 203, 204, 205, 206, 207, 208, 209, 210, 211, 212, 213, 214, 215, 216, 217, 218, 219, 220, 221, 222, 223, 224, 225, 226, 227, 228, 229, 230, 231, 232, 233, 234, 235, 236, 237, 238, 239, 240, 241, 242, 243, 244, 245, 246, 247, 248, 249, 250, 251, 252, 253, 254, 255, 256, 257, 258, 259, 260, 261, 262, 263, 264, 265, 266, 267, 268, 269, 270, 271, 272, 273, 274, 275, 276, 277, 278, 279, 280, 281, 282, 283, 284, 285, 286, 287, 288, 289, 290, 291, 292, 293, 294, 295, 296, 297, 298, 299, 300, 301, 302, 303, 304, 305, 306, 307, 308, 309, 310, 311, 312, 313, 314, 315, 316, 317, 318, 319, 320, 321, 322, 323, 324, 325, 326, 327, 328, 329, 330, 331, 332, 333, 334, 335, 336, 337, 338, 339, 340, 341, 342, 343, 344, 345, 346, 347, 348, 349, 350, 351, 352, 353, 354, 355, 356, 357, 358, 359, 360, 361, 362, 363, 364, 365, 366, 367, 368, 369, 370, 371, 372, 373, 374, 375, 376, 377, 378, 379, 380, 381, 382, 383, 384, 385, 386, 387, 388, 389, 390, 391, 392, 393, 394, 395, 396, 397, 398, 399, 400, 401, 402, 403, 404, 405, 406, 407, 408, 409, 410, 411, 412, 413, 414, 415, 416, 417, 418, 419, 420, 421, 422, 423, 424, 425, 426, 427, 428, 429, 430, 431, 432, 433, 434, 435, 436, 437, 438, 439, 440, 441, 442, 443, 444, 445, 446, 447, 448, 449, 450, 451, 452, 453, 454, 455, 456, 457, 458, 459, 460, 461, 462, 463, 464, 465, 466, 467, 468, 469, 470, 471, 472, 473, 474, 475, 476, 477, 478, 479, 480, 481, 482, 483, 484, 485, 486, 487, 488, 489, 490, 491, 492, 493, 494, 495, 496, 497, 498, 499, 500, 501, 502, 503, 504, 505, 506, 507, 508, 509, 510, 511, 512, 513, 514, 515, 516, 517, 518, 519, 520, 521, 522, 523, 524, 525, 526, 527, 528, 529, 530, 531, 532, 533, 534, 535, 536, 537, 538, 539, 540, 541, 542, 543, 544, 545, 546, 547, 548, 549, 550, 551, 552, 553, 554, 555, 556, 557, 558, 559, 560, 561, 562, 563, 564, 565, 566, 567, 568, 569, 570, 571, 572, 573, 574, 575, 576, 577, 578, 579, 580, 581, 582, 583, 584, 585, 586, 587, 588, 589, 590, 591, 592, 593, 594, 595, 596, 597, 598, 599, 600, 601, 602, 603, 604, 605, 606, 607, 608, 609, 610, 611, 612, 613, 614, 615, 616, 617, 618, 619, 620, 621, 622, 623, 624, 625, 626, 627, 628, 629, 630, 631, 632, 633, 634, 635, 636, 637, 638, 639, 640, 641, 642, 643, 644, 645, 646, 647, 648, 649, 650, 651, 652, 653, 654, 655, 656, 657, 658, 659, 660, 661, 662, 663, 664, 665, 666, 667, 668, 669, 670, 671, 672, 673, 674, 675, 676, 677, 678, 679, 680, 681, 682, 683, 684, 685, 686, 687, 688, 689, 690, 691, 692, 693, 694, 695, 696, 697, 698, 699, 700, 701, 702, 703, 704, 705, 706, 707, 708, 709, 710, 711, 712, 713, 714, 715, 716, 717, 718, 719, 720, 721, 722, 723, 724, 725, 726, 727, 728, 729, 730, 731, 732, 733, 734, 735, 736, 737, 738, 739, 740, 741, 742, 743, 744, 745, 746, 747, 748, 749, 750, 751, 752, 753, 754, 755, 756, 757, 758, 759, 760, 761, 762, 763, 764, 765, 766, 767, 768, 769, 770, 771, 772, 773, 774, 775, 776, 777, 778, 779, 780, 781, 782, 783, 784, 785, 786, 787, 788, 789, 790, 791, 792, 793, 794, 795, 796, 797, 798, 799, 800, 801, 802, 803, 804, 805, 806, 807, 808, 809, 810, 811, 812, 813, 814, 815, 816, 817, 818, 819, 820, 821, 822, 823, 824, 825, 826, 827, 828, 829, 830, 831, 832, 833, 834, 835, 836, 837, 838, 839, 840, 841, 842, 843, 844, 845, 846, 847, 848, 849, 850, 851, 852, 853, 854, 855, 856, 857, 858, 859, 860, 861, 862, 863, 864, 865, 866, 867, 868, 869, 870, 871, 872, 873, 874, 875, 876, 877, 878, 879, 880, 881, 882, 883, 884, 885, 886, 887, 888, 889, 890, 891, 892, 893, 894, 895, 896, 897, 898, 899, 900, 901, 902, 903, 904, 905, 906, 907, 908, 909, 910, 911, 912, 913, 914, 915, 916, 917, 918, 919, 920, 921, 922, 923, 924, 925, 926, 927, 928, 929, 930, 931, 932, 933, 934, 935, 936, 937, 938, 939, 940, 941, 942, 943, 944, 945, 946, 947, 948, 949, 950, 951, 952, 953, 954, 955, 956, 957, 958, 959, 960, 961, 962, 963, 964, 965, 966], \"y\": [null, null, null, null, null, null, null, null, null, null, null, null, null, null, null, null, null, null, null, null, 112.22343444824219, 110.50173950195312, 108.46822357177734, 108.01138305664062, 107.87264251708984, 106.31256866455078, 104.7752456665039, 103.14259338378906, 101.71234130859375, 99.01258850097656, 97.65016174316406, 96.30838012695312, 95.84092712402344, 94.89231872558594, 94.16902160644531, 93.4215087890625, 91.2825698852539, 89.59195709228516, 89.04020690917969, 89.21395874023438, 88.99878692626953, 89.04380798339844, 89.54048156738281, 91.32730865478516, 91.64285278320312, 91.52011108398438, 92.03250122070312, 91.77367401123047, 92.21014404296875, 93.28125762939453, 94.15644073486328, 94.32299041748047, 95.5402603149414, 96.53240966796875, 97.2604751586914, 98.7259521484375, 98.17717742919922, 97.81085968017578, 97.99708557128906, 97.96218872070312, 98.1685791015625, 98.34134674072266, 98.46868896484375, 98.79817962646484, 99.30306243896484, 99.93992614746094, 100.42369079589844, 100.51445007324219, 100.53042602539062, 100.03592681884766, 100.35051727294922, 101.40145111083984, 101.779541015625, 101.99176788330078, 103.10572052001953, 103.51968383789062, 104.00883483886719, 104.35559844970703, 104.34019470214844, 104.2834701538086, 103.97944641113281, 104.7381362915039, 106.1807632446289, 107.34085083007812, 108.68087005615234, 108.62174224853516, 104.8539047241211, 102.46526336669922, 100.34835052490234, 99.1354751586914, 97.89100646972656, 96.53470611572266, 95.3030776977539, 94.1854019165039, 93.38764190673828, 93.53607940673828, 93.52132415771484, 93.28324127197266, 92.6177978515625, 92.53947448730469, 92.53246307373047, 93.01205444335938, 92.72286224365234, 91.98269653320312, 91.37721252441406, 91.16741180419922, 91.05934143066406, 91.45896911621094, 91.57908630371094, 92.10946655273438, 93.2305679321289, 94.8355484008789, 96.56344604492188, 98.58624267578125, 100.10661315917969, 101.16497039794922, 101.6211166381836, 101.62503051757812, 101.31743621826172, 101.29811096191406, 101.06804656982422, 100.39789581298828, 99.61672973632812, 98.30805206298828, 97.30220794677734, 96.59521484375, 96.12274932861328, 96.04875183105469, 95.8069839477539, 95.62029266357422, 94.78016662597656, 93.8672103881836, 93.641845703125, 92.6265869140625, 91.14185333251953, 90.67230224609375, 91.10440826416016, 91.54462432861328, 93.28218078613281, 94.94188690185547, 95.47152709960938, 95.72813415527344, 96.33007049560547, 96.32576751708984, 96.50354766845703, 96.63983154296875, 97.21833801269531, 97.69120025634766, 98.27699279785156, 95.62267303466797, 93.8365707397461, 92.10163879394531, 90.87493133544922, 90.49105072021484, 90.99293518066406, 91.70634460449219, 92.2741928100586, 92.44538116455078, 93.21634674072266, 93.8353500366211, 94.05261993408203, 94.16307067871094, 95.1620864868164, 95.51668548583984, 95.49095153808594, 95.41403198242188, 95.81575775146484, 96.40042877197266, 96.38665008544922, 96.3141098022461, 96.47743225097656, 96.62176513671875, 96.73123931884766, 96.56847381591797, 96.65665435791016, 96.50453186035156, 96.84977722167969, 97.39096069335938, 97.58036804199219, 97.68307495117188, 97.73860931396484, 97.7711181640625, 97.79197692871094, 98.52921295166016, 98.9068832397461, 99.40110778808594, 99.03575897216797, 99.15985870361328, 98.56019592285156, 98.29718017578125, 98.12767791748047, 98.50613403320312, 98.60559844970703, 98.65889739990234, 97.96278381347656, 97.6114273071289, 97.37669372558594, 96.99020385742188, 97.17245483398438, 97.3652572631836, 97.5206069946289, 98.10999298095703, 99.56109619140625, 100.48831939697266, 102.11561584472656, 103.12308502197266, 103.79680633544922, 103.72818756103516, 103.08454132080078, 102.29106903076172, 101.691162109375, 101.52617645263672, 101.21810150146484, 105.77782440185547, 110.58200073242188, 114.53526306152344, 118.68568420410156, 121.40979766845703, 123.16587829589844, 124.2611083984375, 124.6539077758789, 125.12472534179688, 124.8957748413086, 124.07441711425781, 123.12419891357422, 122.43253326416016, 121.98238372802734, 122.55148315429688, 122.81980895996094, 122.41535949707031, 120.0675277709961, 118.14224243164062, 116.25935363769531, 115.21061706542969, 114.84086608886719, 114.67842864990234, 114.59728240966797, 115.35948181152344, 116.0168685913086, 116.48748016357422, 116.51930236816406, 116.47846984863281, 116.70526123046875, 116.63046264648438, 116.54320526123047, 117.57125854492188, 117.90828704833984, 119.74630737304688, 121.261474609375, 121.76074981689453, 121.96419525146484, 122.051513671875, 122.38142395019531, 122.36955261230469, 122.88836669921875, 123.04313659667969, 123.39717102050781, 123.67063903808594, 124.43144989013672, 124.7534408569336, 124.92737579345703, 125.59872436523438, 125.56784057617188, 125.16680908203125, 124.53276062011719, 124.9092788696289, 125.89875030517578, 127.58673095703125, 128.6016387939453, 129.22544860839844, 129.2987060546875, 129.56179809570312, 129.1822052001953, 130.30682373046875, 131.0233917236328, 131.4910430908203, 133.27908325195312, 135.050048828125, 135.6983184814453, 136.89501953125, 137.80828857421875, 138.10523986816406, 139.14776611328125, 139.68084716796875, 139.98365783691406, 140.15286254882812, 139.62643432617188, 139.4658203125, 139.7216339111328, 140.91676330566406, 142.22425842285156, 142.84031677246094, 143.46656799316406, 143.25791931152344, 142.34913635253906, 141.92178344726562, 141.70574951171875, 141.6010284423828, 141.86270141601562, 142.41949462890625, 142.53823852539062, 142.5478973388672, 142.53097534179688, 142.19964599609375, 142.2367706298828, 141.375244140625, 140.328369140625, 140.50277709960938, 140.50885009765625, 140.18508911132812, 140.2118682861328, 140.28143310546875, 141.2830047607422, 141.81454467773438, 142.74717712402344, 143.1329803466797, 143.6330108642578, 144.3130645751953, 143.54034423828125, 143.09164428710938, 142.50918579101562, 142.09703063964844, 142.47215270996094, 143.1811065673828, 144.0526123046875, 145.32366943359375, 146.26846313476562, 146.5423126220703, 146.2907257080078, 145.38624572753906, 144.66165161132812, 143.87673950195312, 143.6515655517578, 143.58802795410156, 143.5744171142578, 143.25210571289062, 144.2501983642578, 143.8777313232422, 142.45504760742188, 141.6051483154297, 141.73593139648438, 142.31349182128906, 145.35670471191406, 147.24755859375, 149.3527374267578, 150.4884796142578, 152.1001434326172, 153.62547302246094, 154.6657257080078, 155.62939453125, 156.2760772705078, 156.32672119140625, 156.5992431640625, 157.85366821289062, 158.55230712890625, 159.61257934570312, 160.0478515625, 159.8839569091797, 157.61422729492188, 156.73875427246094, 156.7449493408203, 156.9250946044922, 157.41409301757812, 157.79266357421875, 159.73973083496094, 161.0048370361328, 162.07550048828125, 162.74917602539062, 163.1293182373047, 164.03521728515625, 164.7514190673828, 165.19842529296875, 165.7989501953125, 166.23435974121094, 163.68136596679688, 159.04153442382812, 156.29241943359375, 154.47006225585938, 153.41683959960938, 152.82534790039062, 152.82223510742188, 152.57745361328125, 153.35675048828125, 154.05963134765625, 155.5352020263672, 156.67276000976562, 155.01153564453125, 154.0604705810547, 152.54312133789062, 151.10897827148438, 149.16912841796875, 148.41586303710938, 147.44842529296875, 148.05125427246094, 149.70782470703125, 151.3695831298828, 154.18141174316406, 155.9710693359375, 158.02862548828125, 159.81524658203125, 168.7871856689453, 176.47410583496094, 181.32752990722656, 185.7498321533203, 188.16702270507812, 188.89942932128906, 189.81256103515625, 188.16622924804688, 186.96768188476562, 185.6092071533203, 184.7384796142578, 183.92388916015625, 182.65774536132812, 182.12295532226562, 182.31997680664062, 181.46707153320312, 179.9250946044922, 176.20556640625, 174.11453247070312, 173.1132354736328, 171.9539031982422, 171.50010681152344, 169.88998413085938, 168.94764709472656, 168.4537353515625, 168.92637634277344, 169.42169189453125, 169.38079833984375, 168.51931762695312, 168.14425659179688, 168.7126007080078, 171.44500732421875, 173.70343017578125, 175.0739288330078, 175.7714385986328, 177.57757568359375, 179.01446533203125, 178.7474822998047, 180.4566192626953, 183.1638641357422, 184.7578125, 185.12606811523438, 184.71206665039062, 185.44927978515625, 186.5935516357422, 187.4149932861328, 189.0161590576172, 189.44285583496094, 186.34149169921875, 183.62631225585938, 183.19532775878906, 183.06785583496094, 183.02493286132812, 181.4842529296875, 180.91238403320312, 182.65147399902344, 188.12686157226562, 194.1129913330078, 197.6022491455078, 198.30848693847656, 198.08639526367188, 198.2049560546875, 199.6250762939453, 202.46974182128906, 202.94300842285156, 201.35987854003906, 199.52365112304688, 198.0138397216797, 196.403564453125, 196.978759765625, 197.0786590576172, 197.37591552734375, 199.60377502441406, 200.66261291503906, 200.1614990234375, 200.2749481201172, 200.9459991455078, 201.90562438964844, 202.5550079345703, 201.23765563964844, 199.9427947998047, 198.40771484375, 196.6298065185547, 196.67921447753906, 197.56471252441406, 196.68820190429688, 197.27099609375, 196.82154846191406, 196.665771484375, 197.4498748779297, 198.16851806640625, 198.5751495361328, 198.34030151367188, 199.64654541015625, 196.4454803466797, 193.3680877685547, 191.20440673828125, 188.9412384033203, 187.49049377441406, 187.13595581054688, 187.14132690429688, 188.738525390625, 188.9407196044922, 188.7070770263672, 189.2382049560547, 190.543701171875, 191.54470825195312, 192.08518981933594, 191.138916015625, 190.9879150390625, 191.1129608154297, 191.64794921875, 191.2921142578125, 190.07119750976562, 191.84291076660156, 193.30450439453125, 197.6819305419922, 202.7899627685547, 206.5270538330078, 210.07823181152344, 213.0512237548828, 213.4196014404297, 214.6166229248047, 217.34878540039062, 221.13059997558594, 224.06240844726562, 223.72299194335938, 223.4207000732422, 223.3749237060547, 226.9287567138672, 239.83279418945312, 255.4412078857422, 269.2215881347656, 278.3608703613281, 286.20648193359375, 287.0810852050781, 280.0641784667969, 271.0458679199219, 267.01141357421875, 260.71160888671875, 262.10614013671875, 265.4967041015625, 260.59930419921875, 254.3856201171875, 255.3721160888672, 258.64361572265625, 264.6766357421875, 275.4911193847656, 282.6581115722656, 284.674560546875, 284.6915283203125, 282.6022033691406, 284.53533935546875, 291.1083679199219, 294.76019287109375, 295.10638427734375, 293.54833984375, 297.4599304199219, 308.63238525390625, 322.087646484375, 327.8996887207031, 325.20037841796875, 327.2467956542969, 326.06036376953125, 320.83984375, 319.5649108886719, 320.4642028808594, 320.0870666503906, 316.724609375, 316.2945861816406, 316.64154052734375, 312.46484375, 305.29949951171875, 310.1133117675781, 308.7032470703125, 296.84613037109375, 291.4835510253906, 284.82415771484375, 282.4850158691406, 285.7113037109375, 291.9531555175781, 293.83807373046875, 293.3240661621094, 296.2441711425781, 302.2499084472656, 308.8753662109375, 313.85406494140625, 313.6745910644531, 324.87548828125, 335.7427978515625, 339.3886413574219, 335.3772277832031, 325.6647644042969, 312.5341491699219, 304.32989501953125, 306.5318298339844, 310.8922424316406, 313.5683898925781, 314.7336120605469, 314.859375, 314.06268310546875, 317.20806884765625, 323.5545349121094, 328.4894104003906, 331.6365661621094, 332.5424499511719, 330.05487060546875, 328.77276611328125, 327.39251708984375, 327.4571838378906, 326.69219970703125, 325.3196105957031, 328.3694152832031, 332.0284423828125, 340.1266784667969, 348.3572692871094, 353.32470703125, 353.8305358886719, 354.04217529296875, 353.3236999511719, 356.2115173339844, 360.4345397949219, 364.79217529296875, 367.5151672363281, 365.2459716796875, 361.67242431640625, 359.6372985839844, 360.80474853515625, 370.2327575683594, 384.7008361816406, 393.8551940917969, 394.7226257324219, 397.9864501953125, 406.75543212890625, 412.9429626464844, 412.5464172363281, 396.98406982421875, 388.1953430175781, 384.9461364746094, 387.2682189941406, 389.1693420410156, 392.69500732421875, 392.5300598144531, 393.4552917480469, 399.29248046875, 409.25579833984375, 415.0059509277344, 416.6715393066406, 413.8128967285156, 402.20526123046875, 393.5430908203125, 381.9430236816406, 372.10186767578125, 363.3135681152344, 357.90777587890625, 357.9091491699219, 357.4874572753906, 359.6036071777344, 362.14031982421875, 359.6175231933594, 345.8376159667969, 334.9577941894531, 332.43817138671875, 338.0253601074219, 343.1536865234375, 349.0015563964844, 353.09735107421875, 352.3908386230469, 350.268310546875, 347.38824462890625, 343.0934143066406, 338.2765808105469, 330.2273254394531, 322.7518310546875, 317.1046447753906, 320.5221252441406, 331.1092529296875, 342.2530517578125, 345.6332702636719, 353.21197509765625, 362.6586608886719, 369.38128662109375, 371.3117370605469, 371.4684753417969, 369.576416015625, 365.64501953125, 351.35968017578125, 341.7851257324219, 341.7846374511719, 345.2470703125, 351.86456298828125, 363.29400634765625, 370.6199951171875, 370.6040954589844, 359.9481506347656, 358.53143310546875, 362.7027282714844, 365.53216552734375, 364.05712890625, 365.6834716796875, 368.0194091796875, 373.3660888671875, 378.99896240234375, 378.5749816894531, 378.450439453125, 377.3058166503906, 375.9842224121094, 369.11151123046875, 356.34814453125, 346.6852111816406, 347.3638916015625, 337.4481506347656, 324.12158203125, 326.6495361328125, 331.87384033203125, 340.936767578125, 356.39666748046875, 359.13458251953125, 346.5700988769531, 332.3522644042969, 327.2893981933594, 313.11236572265625, 306.9151611328125, 301.7305908203125, 291.5966796875, 285.1396789550781, 291.69268798828125, 307.5665283203125, 315.619873046875, 318.7569885253906, 316.8071594238281, 322.04248046875, 323.35736083984375, 313.9897766113281, 300.1802673339844, 292.2043151855469, 287.4385070800781, 287.5326232910156, 287.63262939453125, 280.1850891113281, 271.5003662109375, 264.7699890136719, 260.82281494140625, 260.8011169433594, 265.0752868652344, 276.4355163574219, 288.0993347167969, 292.701904296875, 293.99176025390625, 286.20391845703125, 282.4072570800781, 273.75146484375, 269.5630798339844, 267.11944580078125, 271.1435546875, 276.2828369140625, 274.8280944824219, 269.454345703125, 269.3677673339844, 269.680908203125, 266.8244934082031, 256.93914794921875, 243.8749237060547, 245.74166870117188, 253.09371948242188, 258.51226806640625, 266.1328125, 271.2416687011719, 274.26605224609375, 287.92877197265625, 307.73333740234375, 322.8988952636719, 328.5005187988281, 329.5887451171875, 334.8696594238281, 337.2044677734375, 346.9595031738281, 353.89715576171875, null, null, null, null, null, null, null, null, null, null, null, null, null, null, null, null, null, null, null, null, null, null, null, null, null, null, null, null, null, null, null, null, null, null, null, null, null, null, null, null, null, null, null, null, null, null, null, null, null, null, null, null, null, null, null, null, null, null, null, null, null, null, null, null, null, null, null, null, null, null, null, null, null, null, null, null, null, null, null, null, null, null, null, null, null, null, null, null, null, null, null, null, null, null, null, null, null, null, null, null, null, null, null, null, null, null, null, null, null, null, null, null, null, null, null, null, null, null, null, null, null, null, null, null, null, null, null, null, null, null, null, null, null, null, null, null, null, null, null, null, null, null, null, null, null, null, null, null, null, null, null, null, null, null, null, null, null, null, null, null, null, null, null, null, null, null, null, null, null, null, null, null, null, null, null, null, null, null, null, null, null, null, null, null, null, null, null, null, null]}, {\"mode\": \"lines\", \"name\": \"Test prediction\", \"type\": \"scatter\", \"x\": [0, 1, 2, 3, 4, 5, 6, 7, 8, 9, 10, 11, 12, 13, 14, 15, 16, 17, 18, 19, 20, 21, 22, 23, 24, 25, 26, 27, 28, 29, 30, 31, 32, 33, 34, 35, 36, 37, 38, 39, 40, 41, 42, 43, 44, 45, 46, 47, 48, 49, 50, 51, 52, 53, 54, 55, 56, 57, 58, 59, 60, 61, 62, 63, 64, 65, 66, 67, 68, 69, 70, 71, 72, 73, 74, 75, 76, 77, 78, 79, 80, 81, 82, 83, 84, 85, 86, 87, 88, 89, 90, 91, 92, 93, 94, 95, 96, 97, 98, 99, 100, 101, 102, 103, 104, 105, 106, 107, 108, 109, 110, 111, 112, 113, 114, 115, 116, 117, 118, 119, 120, 121, 122, 123, 124, 125, 126, 127, 128, 129, 130, 131, 132, 133, 134, 135, 136, 137, 138, 139, 140, 141, 142, 143, 144, 145, 146, 147, 148, 149, 150, 151, 152, 153, 154, 155, 156, 157, 158, 159, 160, 161, 162, 163, 164, 165, 166, 167, 168, 169, 170, 171, 172, 173, 174, 175, 176, 177, 178, 179, 180, 181, 182, 183, 184, 185, 186, 187, 188, 189, 190, 191, 192, 193, 194, 195, 196, 197, 198, 199, 200, 201, 202, 203, 204, 205, 206, 207, 208, 209, 210, 211, 212, 213, 214, 215, 216, 217, 218, 219, 220, 221, 222, 223, 224, 225, 226, 227, 228, 229, 230, 231, 232, 233, 234, 235, 236, 237, 238, 239, 240, 241, 242, 243, 244, 245, 246, 247, 248, 249, 250, 251, 252, 253, 254, 255, 256, 257, 258, 259, 260, 261, 262, 263, 264, 265, 266, 267, 268, 269, 270, 271, 272, 273, 274, 275, 276, 277, 278, 279, 280, 281, 282, 283, 284, 285, 286, 287, 288, 289, 290, 291, 292, 293, 294, 295, 296, 297, 298, 299, 300, 301, 302, 303, 304, 305, 306, 307, 308, 309, 310, 311, 312, 313, 314, 315, 316, 317, 318, 319, 320, 321, 322, 323, 324, 325, 326, 327, 328, 329, 330, 331, 332, 333, 334, 335, 336, 337, 338, 339, 340, 341, 342, 343, 344, 345, 346, 347, 348, 349, 350, 351, 352, 353, 354, 355, 356, 357, 358, 359, 360, 361, 362, 363, 364, 365, 366, 367, 368, 369, 370, 371, 372, 373, 374, 375, 376, 377, 378, 379, 380, 381, 382, 383, 384, 385, 386, 387, 388, 389, 390, 391, 392, 393, 394, 395, 396, 397, 398, 399, 400, 401, 402, 403, 404, 405, 406, 407, 408, 409, 410, 411, 412, 413, 414, 415, 416, 417, 418, 419, 420, 421, 422, 423, 424, 425, 426, 427, 428, 429, 430, 431, 432, 433, 434, 435, 436, 437, 438, 439, 440, 441, 442, 443, 444, 445, 446, 447, 448, 449, 450, 451, 452, 453, 454, 455, 456, 457, 458, 459, 460, 461, 462, 463, 464, 465, 466, 467, 468, 469, 470, 471, 472, 473, 474, 475, 476, 477, 478, 479, 480, 481, 482, 483, 484, 485, 486, 487, 488, 489, 490, 491, 492, 493, 494, 495, 496, 497, 498, 499, 500, 501, 502, 503, 504, 505, 506, 507, 508, 509, 510, 511, 512, 513, 514, 515, 516, 517, 518, 519, 520, 521, 522, 523, 524, 525, 526, 527, 528, 529, 530, 531, 532, 533, 534, 535, 536, 537, 538, 539, 540, 541, 542, 543, 544, 545, 546, 547, 548, 549, 550, 551, 552, 553, 554, 555, 556, 557, 558, 559, 560, 561, 562, 563, 564, 565, 566, 567, 568, 569, 570, 571, 572, 573, 574, 575, 576, 577, 578, 579, 580, 581, 582, 583, 584, 585, 586, 587, 588, 589, 590, 591, 592, 593, 594, 595, 596, 597, 598, 599, 600, 601, 602, 603, 604, 605, 606, 607, 608, 609, 610, 611, 612, 613, 614, 615, 616, 617, 618, 619, 620, 621, 622, 623, 624, 625, 626, 627, 628, 629, 630, 631, 632, 633, 634, 635, 636, 637, 638, 639, 640, 641, 642, 643, 644, 645, 646, 647, 648, 649, 650, 651, 652, 653, 654, 655, 656, 657, 658, 659, 660, 661, 662, 663, 664, 665, 666, 667, 668, 669, 670, 671, 672, 673, 674, 675, 676, 677, 678, 679, 680, 681, 682, 683, 684, 685, 686, 687, 688, 689, 690, 691, 692, 693, 694, 695, 696, 697, 698, 699, 700, 701, 702, 703, 704, 705, 706, 707, 708, 709, 710, 711, 712, 713, 714, 715, 716, 717, 718, 719, 720, 721, 722, 723, 724, 725, 726, 727, 728, 729, 730, 731, 732, 733, 734, 735, 736, 737, 738, 739, 740, 741, 742, 743, 744, 745, 746, 747, 748, 749, 750, 751, 752, 753, 754, 755, 756, 757, 758, 759, 760, 761, 762, 763, 764, 765, 766, 767, 768, 769, 770, 771, 772, 773, 774, 775, 776, 777, 778, 779, 780, 781, 782, 783, 784, 785, 786, 787, 788, 789, 790, 791, 792, 793, 794, 795, 796, 797, 798, 799, 800, 801, 802, 803, 804, 805, 806, 807, 808, 809, 810, 811, 812, 813, 814, 815, 816, 817, 818, 819, 820, 821, 822, 823, 824, 825, 826, 827, 828, 829, 830, 831, 832, 833, 834, 835, 836, 837, 838, 839, 840, 841, 842, 843, 844, 845, 846, 847, 848, 849, 850, 851, 852, 853, 854, 855, 856, 857, 858, 859, 860, 861, 862, 863, 864, 865, 866, 867, 868, 869, 870, 871, 872, 873, 874, 875, 876, 877, 878, 879, 880, 881, 882, 883, 884, 885, 886, 887, 888, 889, 890, 891, 892, 893, 894, 895, 896, 897, 898, 899, 900, 901, 902, 903, 904, 905, 906, 907, 908, 909, 910, 911, 912, 913, 914, 915, 916, 917, 918, 919, 920, 921, 922, 923, 924, 925, 926, 927, 928, 929, 930, 931, 932, 933, 934, 935, 936, 937, 938, 939, 940, 941, 942, 943, 944, 945, 946, 947, 948, 949, 950, 951, 952, 953, 954, 955, 956, 957, 958, 959, 960, 961, 962, 963, 964, 965, 966], \"y\": [null, null, null, null, null, null, null, null, null, null, null, null, null, null, null, null, null, null, null, null, null, null, null, null, null, null, null, null, null, null, null, null, null, null, null, null, null, null, null, null, null, null, null, null, null, null, null, null, null, null, null, null, null, null, null, null, null, null, null, null, null, null, null, null, null, null, null, null, null, null, null, null, null, null, null, null, null, null, null, null, null, null, null, null, null, null, null, null, null, null, null, null, null, null, null, null, null, null, null, null, null, null, null, null, null, null, null, null, null, null, null, null, null, null, null, null, null, null, null, null, null, null, null, null, null, null, null, null, null, null, null, null, null, null, null, null, null, null, null, null, null, null, null, null, null, null, null, null, null, null, null, null, null, null, null, null, null, null, null, null, null, null, null, null, null, null, null, null, null, null, null, null, null, null, null, null, null, null, null, null, null, null, null, null, null, null, null, null, null, null, null, null, null, null, null, null, null, null, null, null, null, null, null, null, null, null, null, null, null, null, null, null, null, null, null, null, null, null, null, null, null, null, null, null, null, null, null, null, null, null, null, null, null, null, null, null, null, null, null, null, null, null, null, null, null, null, null, null, null, null, null, null, null, null, null, null, null, null, null, null, null, null, null, null, null, null, null, null, null, null, null, null, null, null, null, null, null, null, null, null, null, null, null, null, null, null, null, null, null, null, null, null, null, null, null, null, null, null, null, null, null, null, null, null, null, null, null, null, null, null, null, null, null, null, null, null, null, null, null, null, null, null, null, null, null, null, null, null, null, null, null, null, null, null, null, null, null, null, null, null, null, null, null, null, null, null, null, null, null, null, null, null, null, null, null, null, null, null, null, null, null, null, null, null, null, null, null, null, null, null, null, null, null, null, null, null, null, null, null, null, null, null, null, null, null, null, null, null, null, null, null, null, null, null, null, null, null, null, null, null, null, null, null, null, null, null, null, null, null, null, null, null, null, null, null, null, null, null, null, null, null, null, null, null, null, null, null, null, null, null, null, null, null, null, null, null, null, null, null, null, null, null, null, null, null, null, null, null, null, null, null, null, null, null, null, null, null, null, null, null, null, null, null, null, null, null, null, null, null, null, null, null, null, null, null, null, null, null, null, null, null, null, null, null, null, null, null, null, null, null, null, null, null, null, null, null, null, null, null, null, null, null, null, null, null, null, null, null, null, null, null, null, null, null, null, null, null, null, null, null, null, null, null, null, null, null, null, null, null, null, null, null, null, null, null, null, null, null, null, null, null, null, null, null, null, null, null, null, null, null, null, null, null, null, null, null, null, null, null, null, null, null, null, null, null, null, null, null, null, null, null, null, null, null, null, null, null, null, null, null, null, null, null, null, null, null, null, null, null, null, null, null, null, null, null, null, null, null, null, null, null, null, null, null, null, null, null, null, null, null, null, null, null, null, null, null, null, null, null, null, null, null, null, null, null, null, null, null, null, null, null, null, null, null, null, null, null, null, null, null, null, null, null, null, null, null, null, null, null, null, null, null, null, null, null, null, null, null, null, null, null, null, null, null, null, null, null, null, null, null, null, null, null, null, null, null, null, null, null, null, null, null, null, null, null, null, null, null, null, null, null, null, null, null, null, null, null, null, null, null, null, null, null, null, null, null, null, null, null, null, null, null, null, null, null, null, null, null, null, null, null, null, null, null, null, null, null, null, null, null, null, null, null, null, null, null, null, null, null, null, null, null, null, null, null, null, null, null, null, null, null, null, null, null, null, null, null, null, null, null, null, null, null, null, null, null, null, null, null, null, null, null, null, null, null, null, null, 356.0567626953125, 348.4232482910156, 332.8056640625, 320.6998596191406, 319.4207763671875, 328.6083679199219, 336.4837646484375, 335.98272705078125, 337.9359436035156, 340.3082275390625, 341.3466796875, 346.5084228515625, 353.5975036621094, 355.8843688964844, 351.08660888671875, 347.0816345214844, 345.0193786621094, 351.45404052734375, 354.82208251953125, 357.7151184082031, 358.43768310546875, 360.1239929199219, 360.6640625, 358.7434387207031, 359.5379638671875, 361.9549255371094, 364.15643310546875, 364.107666015625, 360.5835266113281, 356.78521728515625, 352.08941650390625, 350.73638916015625, 354.6622009277344, 355.5721740722656, 352.69500732421875, 354.15557861328125, 355.8729553222656, 358.8004455566406, 359.9728698730469, 360.5479736328125, 361.6776123046875, 360.6121826171875, 366.48443603515625, 374.4936828613281, 371.04425048828125, 365.61553955078125, 360.2034606933594, 354.0126953125, 351.47735595703125, 353.055419921875, 360.3143615722656, 367.03985595703125, 370.79327392578125, 370.434326171875, 366.96649169921875, 361.99554443359375, 360.86541748046875, 361.7759094238281, 364.76434326171875, 359.02325439453125, 350.5961608886719, 350.9378662109375, 353.48321533203125, 357.4344787597656, 368.0705261230469, 379.1012878417969, 380.8753662109375, 374.0928649902344, 370.4853820800781, 369.50537109375, 369.2790832519531, 373.0904235839844, 377.08251953125, 381.63458251953125, 381.59686279296875, 374.8415222167969, 365.4832763671875, 359.6380920410156, 357.6291198730469, 350.2728271484375, 344.2810363769531, 347.0279541015625, 354.32220458984375, 357.2200927734375, 353.373046875, 351.5298156738281, 355.0163879394531, 355.1920166015625, 354.1367492675781, 353.88592529296875, 351.2915344238281, 350.203857421875, 346.19049072265625, 339.5993347167969, 343.2750244140625, 351.5823669433594, 357.7113952636719, 361.4904479980469, 358.210205078125, 352.6515808105469, 346.8592529296875, 342.4165344238281, 339.3323059082031, 343.7337646484375, 352.3262634277344, 361.53533935546875, 366.89617919921875, 369.6258850097656, 370.9764709472656, 365.8109436035156, 360.8363952636719, 362.869384765625, 365.7587890625, 370.76446533203125, 374.4799499511719, 378.806884765625, 381.05908203125, 378.69049072265625, 377.1347351074219, 377.6378173828125, 378.2652893066406, 375.1492004394531, 368.79248046875, 363.8922119140625, 360.5165710449219, 340.7513732910156, 317.93695068359375, 305.4163513183594, 301.8394775390625, 308.7422790527344, 320.4674377441406, 333.1480407714844, 338.71728515625, 334.7236633300781, 327.1344909667969, 320.7880554199219, 317.7659606933594, 312.0531921386719, 308.8208312988281, 305.6116027832031, 309.82855224609375, 311.8997497558594, 312.53778076171875, 312.9700927734375, 306.70147705078125, 299.0644226074219, 298.61859130859375, 304.45849609375, 304.8320617675781, 301.7966003417969, 298.7408447265625, 294.41363525390625, 293.6458740234375, 292.8935546875, 292.81512451171875, 295.5807189941406, 296.7396240234375, 294.01025390625, 292.5683288574219, 293.11346435546875, 292.6462097167969, 293.8283386230469, 292.2696228027344, 290.2095031738281, 289.6341857910156, 292.438232421875, 295.2225341796875, 298.9028625488281, 297.764404296875, 292.53509521484375, 280.4831848144531, 269.4895324707031, 259.5718688964844, 259.8450012207031, 262.9590759277344, 265.2974548339844, 268.57391357421875, 271.72686767578125, 272.3290710449219, 271.6056823730469, 273.2168884277344, 275.4992980957031, 275.3412780761719, 272.7657470703125, 276.3912353515625, 282.3298034667969, 287.4699401855469, 288.7096252441406, 288.70654296875, null]}, {\"mode\": \"lines\", \"name\": \"Actual Value\", \"type\": \"scatter\", \"x\": [0, 1, 2, 3, 4, 5, 6, 7, 8, 9, 10, 11, 12, 13, 14, 15, 16, 17, 18, 19, 20, 21, 22, 23, 24, 25, 26, 27, 28, 29, 30, 31, 32, 33, 34, 35, 36, 37, 38, 39, 40, 41, 42, 43, 44, 45, 46, 47, 48, 49, 50, 51, 52, 53, 54, 55, 56, 57, 58, 59, 60, 61, 62, 63, 64, 65, 66, 67, 68, 69, 70, 71, 72, 73, 74, 75, 76, 77, 78, 79, 80, 81, 82, 83, 84, 85, 86, 87, 88, 89, 90, 91, 92, 93, 94, 95, 96, 97, 98, 99, 100, 101, 102, 103, 104, 105, 106, 107, 108, 109, 110, 111, 112, 113, 114, 115, 116, 117, 118, 119, 120, 121, 122, 123, 124, 125, 126, 127, 128, 129, 130, 131, 132, 133, 134, 135, 136, 137, 138, 139, 140, 141, 142, 143, 144, 145, 146, 147, 148, 149, 150, 151, 152, 153, 154, 155, 156, 157, 158, 159, 160, 161, 162, 163, 164, 165, 166, 167, 168, 169, 170, 171, 172, 173, 174, 175, 176, 177, 178, 179, 180, 181, 182, 183, 184, 185, 186, 187, 188, 189, 190, 191, 192, 193, 194, 195, 196, 197, 198, 199, 200, 201, 202, 203, 204, 205, 206, 207, 208, 209, 210, 211, 212, 213, 214, 215, 216, 217, 218, 219, 220, 221, 222, 223, 224, 225, 226, 227, 228, 229, 230, 231, 232, 233, 234, 235, 236, 237, 238, 239, 240, 241, 242, 243, 244, 245, 246, 247, 248, 249, 250, 251, 252, 253, 254, 255, 256, 257, 258, 259, 260, 261, 262, 263, 264, 265, 266, 267, 268, 269, 270, 271, 272, 273, 274, 275, 276, 277, 278, 279, 280, 281, 282, 283, 284, 285, 286, 287, 288, 289, 290, 291, 292, 293, 294, 295, 296, 297, 298, 299, 300, 301, 302, 303, 304, 305, 306, 307, 308, 309, 310, 311, 312, 313, 314, 315, 316, 317, 318, 319, 320, 321, 322, 323, 324, 325, 326, 327, 328, 329, 330, 331, 332, 333, 334, 335, 336, 337, 338, 339, 340, 341, 342, 343, 344, 345, 346, 347, 348, 349, 350, 351, 352, 353, 354, 355, 356, 357, 358, 359, 360, 361, 362, 363, 364, 365, 366, 367, 368, 369, 370, 371, 372, 373, 374, 375, 376, 377, 378, 379, 380, 381, 382, 383, 384, 385, 386, 387, 388, 389, 390, 391, 392, 393, 394, 395, 396, 397, 398, 399, 400, 401, 402, 403, 404, 405, 406, 407, 408, 409, 410, 411, 412, 413, 414, 415, 416, 417, 418, 419, 420, 421, 422, 423, 424, 425, 426, 427, 428, 429, 430, 431, 432, 433, 434, 435, 436, 437, 438, 439, 440, 441, 442, 443, 444, 445, 446, 447, 448, 449, 450, 451, 452, 453, 454, 455, 456, 457, 458, 459, 460, 461, 462, 463, 464, 465, 466, 467, 468, 469, 470, 471, 472, 473, 474, 475, 476, 477, 478, 479, 480, 481, 482, 483, 484, 485, 486, 487, 488, 489, 490, 491, 492, 493, 494, 495, 496, 497, 498, 499, 500, 501, 502, 503, 504, 505, 506, 507, 508, 509, 510, 511, 512, 513, 514, 515, 516, 517, 518, 519, 520, 521, 522, 523, 524, 525, 526, 527, 528, 529, 530, 531, 532, 533, 534, 535, 536, 537, 538, 539, 540, 541, 542, 543, 544, 545, 546, 547, 548, 549, 550, 551, 552, 553, 554, 555, 556, 557, 558, 559, 560, 561, 562, 563, 564, 565, 566, 567, 568, 569, 570, 571, 572, 573, 574, 575, 576, 577, 578, 579, 580, 581, 582, 583, 584, 585, 586, 587, 588, 589, 590, 591, 592, 593, 594, 595, 596, 597, 598, 599, 600, 601, 602, 603, 604, 605, 606, 607, 608, 609, 610, 611, 612, 613, 614, 615, 616, 617, 618, 619, 620, 621, 622, 623, 624, 625, 626, 627, 628, 629, 630, 631, 632, 633, 634, 635, 636, 637, 638, 639, 640, 641, 642, 643, 644, 645, 646, 647, 648, 649, 650, 651, 652, 653, 654, 655, 656, 657, 658, 659, 660, 661, 662, 663, 664, 665, 666, 667, 668, 669, 670, 671, 672, 673, 674, 675, 676, 677, 678, 679, 680, 681, 682, 683, 684, 685, 686, 687, 688, 689, 690, 691, 692, 693, 694, 695, 696, 697, 698, 699, 700, 701, 702, 703, 704, 705, 706, 707, 708, 709, 710, 711, 712, 713, 714, 715, 716, 717, 718, 719, 720, 721, 722, 723, 724, 725, 726, 727, 728, 729, 730, 731, 732, 733, 734, 735, 736, 737, 738, 739, 740, 741, 742, 743, 744, 745, 746, 747, 748, 749, 750, 751, 752, 753, 754, 755, 756, 757, 758, 759, 760, 761, 762, 763, 764, 765, 766, 767, 768, 769, 770, 771, 772, 773, 774, 775, 776, 777, 778, 779, 780, 781, 782, 783, 784, 785, 786, 787, 788, 789, 790, 791, 792, 793, 794, 795, 796, 797, 798, 799, 800, 801, 802, 803, 804, 805, 806, 807, 808, 809, 810, 811, 812, 813, 814, 815, 816, 817, 818, 819, 820, 821, 822, 823, 824, 825, 826, 827, 828, 829, 830, 831, 832, 833, 834, 835, 836, 837, 838, 839, 840, 841, 842, 843, 844, 845, 846, 847, 848, 849, 850, 851, 852, 853, 854, 855, 856, 857, 858, 859, 860, 861, 862, 863, 864, 865, 866, 867, 868, 869, 870, 871, 872, 873, 874, 875, 876, 877, 878, 879, 880, 881, 882, 883, 884, 885, 886, 887, 888, 889, 890, 891, 892, 893, 894, 895, 896, 897, 898, 899, 900, 901, 902, 903, 904, 905, 906, 907, 908, 909, 910, 911, 912, 913, 914, 915, 916, 917, 918, 919, 920, 921, 922, 923, 924, 925, 926, 927, 928, 929, 930, 931, 932, 933, 934, 935, 936, 937, 938, 939, 940, 941, 942, 943, 944, 945, 946, 947, 948, 949, 950, 951, 952, 953, 954, 955, 956, 957, 958, 959, 960, 961, 962, 963, 964, 965, 966], \"y\": [123.0, 123.0, 118.0, 117.0, 116.0, 118.0, 117.0, 117.0, 119.0, 117.0, 114.0, 110.0, 108.0, 118.0, 115.00000000000001, 111.0, 115.00000000000001, 117.0, 107.0, 107.0, 104.00000000000001, 108.0, 108.0, 102.0, 101.0, 99.00000000000001, 98.0, 91.0, 94.0, 92.0, 94.0, 91.0, 91.0, 90.0, 83.00000000000001, 83.00000000000001, 86.0, 87.99999999999999, 86.0, 87.0, 89.0, 95.0, 90.0, 89.0, 92.0, 89.0, 92.0, 95.0, 95.0, 92.99999999999999, 98.0, 98.0, 98.0, 102.0, 95.0, 96.0, 98.0, 97.0, 98.0, 98.0, 98.0, 99.00000000000001, 100.0, 101.0, 101.0, 100.0, 100.0, 98.0, 101.0, 104.00000000000001, 102.0, 102.0, 106.0, 104.00000000000001, 105.0, 105.0, 104.00000000000001, 104.00000000000001, 103.0, 107.0, 110.0, 110.0, 112.0, 108.0, 94.0, 97.0, 95.0, 96.0, 94.0, 92.0, 91.0, 90.0, 90.0, 92.99999999999999, 92.0, 91.0, 89.0, 91.0, 91.0, 92.99999999999999, 90.0, 87.99999999999999, 87.99999999999999, 89.0, 89.0, 91.0, 90.0, 92.0, 95.0, 98.0, 100.0, 103.0, 103.0, 103.0, 102.0, 101.0, 100.0, 101.0, 100.0, 98.0, 97.0, 94.0, 94.0, 94.0, 94.0, 95.0, 94.0, 94.0, 91.0, 90.0, 92.0, 87.99999999999999, 85.0, 87.99999999999999, 91.0, 91.0, 97.0, 98.0, 95.0, 95.0, 97.0, 95.0, 96.0, 96.0, 98.0, 98.0, 99.00000000000001, 86.0, 87.99999999999999, 86.0, 86.0, 87.99999999999999, 91.0, 92.0, 92.0, 91.0, 94.0, 94.0, 92.99999999999999, 92.99999999999999, 97.0, 95.0, 94.0, 94.0, 96.0, 97.0, 95.0, 95.0, 96.0, 96.0, 96.0, 95.0, 96.0, 95.0, 97.0, 98.0, 97.0, 97.0, 97.0, 97.0, 97.0, 100.0, 99.00000000000001, 100.0, 97.0, 99.00000000000001, 96.0, 97.0, 97.0, 99.00000000000001, 98.0, 98.0, 95.0, 96.0, 96.0, 95.0, 97.0, 97.0, 97.0, 99.00000000000001, 103.0, 102.0, 106.0, 105.0, 105.0, 103.0, 101.0, 100.0, 100.0, 101.0, 100.0, 119.0, 122.0, 123.0, 128.0, 127.0, 127.0, 127.0, 126.0, 127.0, 124.99999999999999, 123.0, 122.0, 122.0, 122.0, 124.99999999999999, 124.0, 122.0, 115.00000000000001, 115.00000000000001, 113.0, 114.0, 115.00000000000001, 115.00000000000001, 115.00000000000001, 118.0, 118.0, 118.0, 117.0, 117.0, 118.0, 117.0, 117.0, 121.0, 119.0, 124.99999999999999, 124.99999999999999, 123.0, 123.0, 123.0, 124.0, 123.0, 124.99999999999999, 124.0, 124.99999999999999, 124.99999999999999, 127.0, 126.0, 126.0, 128.0, 126.0, 124.99999999999999, 124.0, 127.0, 129.0, 132.0, 131.0, 131.0, 130.0, 131.0, 129.0, 134.0, 133.0, 133.0, 138.0, 139.0, 137.0, 140.0, 140.0, 139.0, 142.0, 141.0, 141.0, 141.0, 139.0, 140.0, 141.0, 144.0, 145.0, 144.0, 145.0, 143.0, 141.0, 142.0, 142.0, 142.0, 143.0, 144.0, 143.0, 143.0, 143.0, 142.0, 143.0, 140.0, 139.0, 142.0, 141.0, 140.0, 141.0, 141.0, 144.0, 143.0, 145.0, 144.0, 145.0, 146.0, 142.0, 143.0, 142.0, 142.0, 144.0, 145.0, 146.0, 148.0, 148.0, 147.0, 146.0, 144.0, 144.0, 143.0, 144.0, 144.0, 144.0, 143.0, 147.0, 143.0, 140.0, 141.0, 143.0, 144.0, 152.0, 150.0, 153.0, 152.0, 155.0, 156.0, 156.0, 157.0, 157.0, 156.0, 157.0, 160.0, 159.0, 161.0, 160.0, 159.0, 153.0, 156.0, 157.0, 157.0, 158.0, 158.0, 163.0, 162.0, 163.0, 163.0, 163.0, 165.0, 165.0, 165.0, 166.0, 166.0, 158.0, 151.0, 153.0, 152.0, 152.0, 152.0, 153.0, 152.0, 155.0, 155.0, 158.0, 158.0, 151.0, 153.0, 150.0, 149.0, 146.0, 148.0, 146.0, 150.0, 153.0, 154.0, 159.0, 158.0, 161.0, 162.0, 184.0, 184.0, 184.0, 189.0, 188.0, 187.00000000000003, 189.0, 183.0, 184.0, 182.0, 182.0, 181.0, 179.0, 180.0, 181.0, 178.0, 175.99999999999997, 169.0, 171.0, 171.0, 169.0, 170.0, 166.0, 167.0, 167.0, 169.0, 169.0, 168.0, 166.0, 167.0, 169.0, 174.99999999999997, 174.99999999999997, 174.99999999999997, 174.99999999999997, 179.0, 179.0, 175.99999999999997, 182.0, 185.0, 184.0, 183.0, 182.0, 185.0, 185.99999999999997, 185.99999999999997, 189.0, 187.00000000000003, 179.0, 179.0, 182.0, 181.0, 181.0, 177.00000000000003, 179.0, 184.0, 194.0, 198.00000000000003, 196.99999999999997, 195.0, 195.0, 196.0, 199.0, 203.0, 199.0, 196.0, 195.0, 194.0, 192.0, 196.0, 194.0, 195.0, 200.0, 198.00000000000003, 196.0, 198.00000000000003, 199.0, 200.0, 200.0, 196.0, 196.0, 194.0, 192.0, 195.0, 196.0, 192.0, 196.0, 193.0, 194.0, 196.0, 196.0, 196.0, 195.0, 199.0, 188.0, 188.0, 187.00000000000003, 184.0, 184.0, 185.0, 185.0, 189.0, 185.99999999999997, 185.99999999999997, 188.0, 190.0, 190.0, 190.0, 187.00000000000003, 189.0, 189.0, 190.0, 188.0, 185.99999999999997, 193.0, 192.0, 201.0, 205.0, 206.0, 210.0, 212.0, 209.00000000000003, 213.0, 217.0, 221.0, 222.0, 217.99999999999997, 220.0, 220.0, 228.0, 249.99999999999997, 261.0, 270.0, 275.0, 285.0, 279.0, 270.0, 265.0, 267.0, 254.0, 266.0, 265.0, 249.99999999999997, 249.0, 258.0, 258.0, 266.0, 280.0, 279.0, 279.0, 281.0, 278.0, 286.0, 294.0, 291.0, 291.0, 290.0, 301.0, 315.0, 325.0, 321.0, 317.0, 331.0, 321.0, 316.0, 322.0, 321.0, 318.0, 313.0, 318.0, 316.0, 307.0, 301.0, 320.0, 301.0, 286.0, 295.0, 280.0, 284.0, 289.0, 294.0, 289.0, 290.0, 298.0, 304.0, 309.0, 312.0, 308.0, 336.0, 335.0, 333.0, 328.0, 319.0, 307.0, 306.0, 314.0, 312.0, 312.0, 313.0, 313.0, 312.0, 320.0, 326.0, 327.0, 330.0, 330.0, 326.0, 329.0, 326.0, 328.0, 325.0, 324.0, 332.0, 332.0, 345.0, 349.0, 350.99999999999994, 349.99999999999994, 354.00000000000006, 351.99999999999994, 360.0, 362.0, 366.0, 367.0, 361.0, 361.0, 361.0, 364.0, 380.0, 392.99999999999994, 392.0, 390.0, 405.0, 417.00000000000006, 414.99999999999994, 411.0, 384.0, 399.0, 390.0, 395.00000000000006, 391.0, 398.0, 391.0, 398.0, 408.0, 419.0, 416.00000000000006, 419.0, 413.99999999999994, 396.00000000000006, 400.0, 379.0, 375.00000000000006, 364.0, 361.0, 363.0, 357.0, 363.0, 363.0, 355.0, 335.0, 337.0, 338.0, 345.0, 343.0, 350.99999999999994, 351.99999999999994, 348.0, 349.0, 346.0, 341.0, 337.0, 326.0, 322.0, 317.0, 328.0, 338.0, 344.0, 339.0, 359.0, 365.0, 368.0, 368.0, 370.99999999999994, 368.0, 364.0, 341.0, 346.0, 349.0, 348.0, 356.0, 370.0, 368.0, 365.0, 349.99999999999994, 368.0, 367.0, 365.0, 361.0, 370.0, 369.0, 378.0, 381.0, 374.00000000000006, 381.0, 377.0, 377.0, 364.0, 350.99999999999994, 349.0, 356.0, 326.0, 321.0, 340.0, 333.0, 346.0, 365.0, 347.0, 333.0, 330.0, 333.0, 302.0, 313.0, 300.0, 285.0, 286.0, 302.0, 317.0, 309.0, 315.0, 311.0, 328.0, 318.0, 303.0, 294.0, 294.0, 287.0, 290.0, 286.0, 271.0, 267.0, 262.0, 259.0, 261.0, 267.0, 283.0, 289.0, 286.0, 290.0, 275.0, 283.0, 265.0, 270.0, 265.0, 275.0, 276.0, 267.0, 263.0, 271.0, 267.0, 261.0, 246.0, 234.0, 254.0, 256.0, 256.0, 268.0, 268.0, 271.0, 298.0, 315.0, 320.0, 320.0, 325.0, 338.0, 333.0, 355.0, 350.99999999999994, 353.00000000000006, 339.0, 325.0, 322.0, 327.0, 338.0, 336.0, 329.0, 341.0, 340.0, 340.0, 350.99999999999994, 356.0, 351.99999999999994, 345.0, 348.0, 346.0, 360.0, 351.99999999999994, 359.0, 357.0, 362.0, 360.0, 357.0, 363.0, 364.0, 365.0, 363.0, 358.0, 357.0, 350.99999999999994, 354.00000000000006, 360.0, 353.00000000000006, 349.99999999999994, 359.0, 356.0, 361.0, 359.0, 361.0, 363.0, 359.0, 375.00000000000006, 378.0, 361.0, 366.0, 360.0, 353.00000000000006, 355.0, 357.0, 367.0, 368.0, 370.0, 368.0, 365.0, 361.0, 365.0, 364.0, 368.0, 350.99999999999994, 349.0, 359.0, 355.0, 360.0, 377.0, 382.0, 374.00000000000006, 368.0, 375.00000000000006, 371.99999999999994, 370.99999999999994, 379.0, 379.0, 385.0, 379.0, 370.0, 364.0, 363.0, 361.0, 345.0, 346.0, 355.0, 359.0, 354.00000000000006, 348.0, 354.00000000000006, 360.0, 351.99999999999994, 354.00000000000006, 355.0, 349.0, 351.99999999999994, 343.0, 337.0, 353.00000000000006, 356.0, 357.0, 361.0, 351.99999999999994, 350.99999999999994, 346.0, 343.0, 340.0, 350.99999999999994, 357.0, 364.0, 365.0, 369.0, 370.99999999999994, 360.0, 362.0, 370.0, 367.0, 375.00000000000006, 375.00000000000006, 382.0, 381.0, 376.0, 380.0, 381.0, 380.0, 372.99999999999994, 367.0, 366.0, 362.0, 325.0, 315.0, 311.0, 307.0, 318.0, 326.0, 336.0, 333.0, 326.0, 323.0, 320.0, 319.0, 308.0, 310.0, 304.0, 316.0, 309.0, 311.0, 312.0, 299.0, 296.0, 303.0, 309.0, 299.0, 298.0, 297.0, 291.0, 295.0, 291.0, 292.0, 297.0, 294.0, 289.0, 292.0, 293.0, 290.0, 294.0, 288.0, 288.0, 289.0, 294.0, 294.0, 299.0, 292.0, 287.0, 271.0, 266.0, 255.0, 265.0, 263.0, 263.0, 268.0, 270.0, 268.0, 268.0, 273.0, 274.0, 271.0, 268.0, 280.0, 283.0, 286.0, 284.0, 286.0, 293.0, 275.0]}],\n",
              "                        {\"annotations\": [{\"font\": {\"color\": \"white\", \"family\": \"Rockwell\", \"size\": 26}, \"showarrow\": false, \"text\": \"Results (LSTM)\", \"x\": 0.0, \"xanchor\": \"left\", \"xref\": \"paper\", \"y\": 1.05, \"yanchor\": \"bottom\", \"yref\": \"paper\"}], \"showlegend\": true, \"template\": {\"data\": {\"bar\": [{\"error_x\": {\"color\": \"#f2f5fa\"}, \"error_y\": {\"color\": \"#f2f5fa\"}, \"marker\": {\"line\": {\"color\": \"rgb(17,17,17)\", \"width\": 0.5}}, \"type\": \"bar\"}], \"barpolar\": [{\"marker\": {\"line\": {\"color\": \"rgb(17,17,17)\", \"width\": 0.5}}, \"type\": \"barpolar\"}], \"carpet\": [{\"aaxis\": {\"endlinecolor\": \"#A2B1C6\", \"gridcolor\": \"#506784\", \"linecolor\": \"#506784\", \"minorgridcolor\": \"#506784\", \"startlinecolor\": \"#A2B1C6\"}, \"baxis\": {\"endlinecolor\": \"#A2B1C6\", \"gridcolor\": \"#506784\", \"linecolor\": \"#506784\", \"minorgridcolor\": \"#506784\", \"startlinecolor\": \"#A2B1C6\"}, \"type\": \"carpet\"}], \"choropleth\": [{\"colorbar\": {\"outlinewidth\": 0, \"ticks\": \"\"}, \"type\": \"choropleth\"}], \"contour\": [{\"colorbar\": {\"outlinewidth\": 0, \"ticks\": \"\"}, \"colorscale\": [[0.0, \"#0d0887\"], [0.1111111111111111, \"#46039f\"], [0.2222222222222222, \"#7201a8\"], [0.3333333333333333, \"#9c179e\"], [0.4444444444444444, \"#bd3786\"], [0.5555555555555556, \"#d8576b\"], [0.6666666666666666, \"#ed7953\"], [0.7777777777777778, \"#fb9f3a\"], [0.8888888888888888, \"#fdca26\"], [1.0, \"#f0f921\"]], \"type\": \"contour\"}], \"contourcarpet\": [{\"colorbar\": {\"outlinewidth\": 0, \"ticks\": \"\"}, \"type\": \"contourcarpet\"}], \"heatmap\": [{\"colorbar\": {\"outlinewidth\": 0, \"ticks\": \"\"}, \"colorscale\": [[0.0, \"#0d0887\"], [0.1111111111111111, \"#46039f\"], [0.2222222222222222, \"#7201a8\"], [0.3333333333333333, \"#9c179e\"], [0.4444444444444444, \"#bd3786\"], [0.5555555555555556, \"#d8576b\"], [0.6666666666666666, \"#ed7953\"], [0.7777777777777778, \"#fb9f3a\"], [0.8888888888888888, \"#fdca26\"], [1.0, \"#f0f921\"]], \"type\": \"heatmap\"}], \"heatmapgl\": [{\"colorbar\": {\"outlinewidth\": 0, \"ticks\": \"\"}, \"colorscale\": [[0.0, \"#0d0887\"], [0.1111111111111111, \"#46039f\"], [0.2222222222222222, \"#7201a8\"], [0.3333333333333333, \"#9c179e\"], [0.4444444444444444, \"#bd3786\"], [0.5555555555555556, \"#d8576b\"], [0.6666666666666666, \"#ed7953\"], [0.7777777777777778, \"#fb9f3a\"], [0.8888888888888888, \"#fdca26\"], [1.0, \"#f0f921\"]], \"type\": \"heatmapgl\"}], \"histogram\": [{\"marker\": {\"colorbar\": {\"outlinewidth\": 0, \"ticks\": \"\"}}, \"type\": \"histogram\"}], \"histogram2d\": [{\"colorbar\": {\"outlinewidth\": 0, \"ticks\": \"\"}, \"colorscale\": [[0.0, \"#0d0887\"], [0.1111111111111111, \"#46039f\"], [0.2222222222222222, \"#7201a8\"], [0.3333333333333333, \"#9c179e\"], [0.4444444444444444, \"#bd3786\"], [0.5555555555555556, \"#d8576b\"], [0.6666666666666666, \"#ed7953\"], [0.7777777777777778, \"#fb9f3a\"], [0.8888888888888888, \"#fdca26\"], [1.0, \"#f0f921\"]], \"type\": \"histogram2d\"}], \"histogram2dcontour\": [{\"colorbar\": {\"outlinewidth\": 0, \"ticks\": \"\"}, \"colorscale\": [[0.0, \"#0d0887\"], [0.1111111111111111, \"#46039f\"], [0.2222222222222222, \"#7201a8\"], [0.3333333333333333, \"#9c179e\"], [0.4444444444444444, \"#bd3786\"], [0.5555555555555556, \"#d8576b\"], [0.6666666666666666, \"#ed7953\"], [0.7777777777777778, \"#fb9f3a\"], [0.8888888888888888, \"#fdca26\"], [1.0, \"#f0f921\"]], \"type\": \"histogram2dcontour\"}], \"mesh3d\": [{\"colorbar\": {\"outlinewidth\": 0, \"ticks\": \"\"}, \"type\": \"mesh3d\"}], \"parcoords\": [{\"line\": {\"colorbar\": {\"outlinewidth\": 0, \"ticks\": \"\"}}, \"type\": \"parcoords\"}], \"pie\": [{\"automargin\": true, \"type\": \"pie\"}], \"scatter\": [{\"marker\": {\"line\": {\"color\": \"#283442\"}}, \"type\": \"scatter\"}], \"scatter3d\": [{\"line\": {\"colorbar\": {\"outlinewidth\": 0, \"ticks\": \"\"}}, \"marker\": {\"colorbar\": {\"outlinewidth\": 0, \"ticks\": \"\"}}, \"type\": \"scatter3d\"}], \"scattercarpet\": [{\"marker\": {\"colorbar\": {\"outlinewidth\": 0, \"ticks\": \"\"}}, \"type\": \"scattercarpet\"}], \"scattergeo\": [{\"marker\": {\"colorbar\": {\"outlinewidth\": 0, \"ticks\": \"\"}}, \"type\": \"scattergeo\"}], \"scattergl\": [{\"marker\": {\"line\": {\"color\": \"#283442\"}}, \"type\": \"scattergl\"}], \"scattermapbox\": [{\"marker\": {\"colorbar\": {\"outlinewidth\": 0, \"ticks\": \"\"}}, \"type\": \"scattermapbox\"}], \"scatterpolar\": [{\"marker\": {\"colorbar\": {\"outlinewidth\": 0, \"ticks\": \"\"}}, \"type\": \"scatterpolar\"}], \"scatterpolargl\": [{\"marker\": {\"colorbar\": {\"outlinewidth\": 0, \"ticks\": \"\"}}, \"type\": \"scatterpolargl\"}], \"scatterternary\": [{\"marker\": {\"colorbar\": {\"outlinewidth\": 0, \"ticks\": \"\"}}, \"type\": \"scatterternary\"}], \"surface\": [{\"colorbar\": {\"outlinewidth\": 0, \"ticks\": \"\"}, \"colorscale\": [[0.0, \"#0d0887\"], [0.1111111111111111, \"#46039f\"], [0.2222222222222222, \"#7201a8\"], [0.3333333333333333, \"#9c179e\"], [0.4444444444444444, \"#bd3786\"], [0.5555555555555556, \"#d8576b\"], [0.6666666666666666, \"#ed7953\"], [0.7777777777777778, \"#fb9f3a\"], [0.8888888888888888, \"#fdca26\"], [1.0, \"#f0f921\"]], \"type\": \"surface\"}], \"table\": [{\"cells\": {\"fill\": {\"color\": \"#506784\"}, \"line\": {\"color\": \"rgb(17,17,17)\"}}, \"header\": {\"fill\": {\"color\": \"#2a3f5f\"}, \"line\": {\"color\": \"rgb(17,17,17)\"}}, \"type\": \"table\"}]}, \"layout\": {\"annotationdefaults\": {\"arrowcolor\": \"#f2f5fa\", \"arrowhead\": 0, \"arrowwidth\": 1}, \"coloraxis\": {\"colorbar\": {\"outlinewidth\": 0, \"ticks\": \"\"}}, \"colorscale\": {\"diverging\": [[0, \"#8e0152\"], [0.1, \"#c51b7d\"], [0.2, \"#de77ae\"], [0.3, \"#f1b6da\"], [0.4, \"#fde0ef\"], [0.5, \"#f7f7f7\"], [0.6, \"#e6f5d0\"], [0.7, \"#b8e186\"], [0.8, \"#7fbc41\"], [0.9, \"#4d9221\"], [1, \"#276419\"]], \"sequential\": [[0.0, \"#0d0887\"], [0.1111111111111111, \"#46039f\"], [0.2222222222222222, \"#7201a8\"], [0.3333333333333333, \"#9c179e\"], [0.4444444444444444, \"#bd3786\"], [0.5555555555555556, \"#d8576b\"], [0.6666666666666666, \"#ed7953\"], [0.7777777777777778, \"#fb9f3a\"], [0.8888888888888888, \"#fdca26\"], [1.0, \"#f0f921\"]], \"sequentialminus\": [[0.0, \"#0d0887\"], [0.1111111111111111, \"#46039f\"], [0.2222222222222222, \"#7201a8\"], [0.3333333333333333, \"#9c179e\"], [0.4444444444444444, \"#bd3786\"], [0.5555555555555556, \"#d8576b\"], [0.6666666666666666, \"#ed7953\"], [0.7777777777777778, \"#fb9f3a\"], [0.8888888888888888, \"#fdca26\"], [1.0, \"#f0f921\"]]}, \"colorway\": [\"#636efa\", \"#EF553B\", \"#00cc96\", \"#ab63fa\", \"#FFA15A\", \"#19d3f3\", \"#FF6692\", \"#B6E880\", \"#FF97FF\", \"#FECB52\"], \"font\": {\"color\": \"#f2f5fa\"}, \"geo\": {\"bgcolor\": \"rgb(17,17,17)\", \"lakecolor\": \"rgb(17,17,17)\", \"landcolor\": \"rgb(17,17,17)\", \"showlakes\": true, \"showland\": true, \"subunitcolor\": \"#506784\"}, \"hoverlabel\": {\"align\": \"left\"}, \"hovermode\": \"closest\", \"mapbox\": {\"style\": \"dark\"}, \"paper_bgcolor\": \"rgb(17,17,17)\", \"plot_bgcolor\": \"rgb(17,17,17)\", \"polar\": {\"angularaxis\": {\"gridcolor\": \"#506784\", \"linecolor\": \"#506784\", \"ticks\": \"\"}, \"bgcolor\": \"rgb(17,17,17)\", \"radialaxis\": {\"gridcolor\": \"#506784\", \"linecolor\": \"#506784\", \"ticks\": \"\"}}, \"scene\": {\"xaxis\": {\"backgroundcolor\": \"rgb(17,17,17)\", \"gridcolor\": \"#506784\", \"gridwidth\": 2, \"linecolor\": \"#506784\", \"showbackground\": true, \"ticks\": \"\", \"zerolinecolor\": \"#C8D4E3\"}, \"yaxis\": {\"backgroundcolor\": \"rgb(17,17,17)\", \"gridcolor\": \"#506784\", \"gridwidth\": 2, \"linecolor\": \"#506784\", \"showbackground\": true, \"ticks\": \"\", \"zerolinecolor\": \"#C8D4E3\"}, \"zaxis\": {\"backgroundcolor\": \"rgb(17,17,17)\", \"gridcolor\": \"#506784\", \"gridwidth\": 2, \"linecolor\": \"#506784\", \"showbackground\": true, \"ticks\": \"\", \"zerolinecolor\": \"#C8D4E3\"}}, \"shapedefaults\": {\"line\": {\"color\": \"#f2f5fa\"}}, \"sliderdefaults\": {\"bgcolor\": \"#C8D4E3\", \"bordercolor\": \"rgb(17,17,17)\", \"borderwidth\": 1, \"tickwidth\": 0}, \"ternary\": {\"aaxis\": {\"gridcolor\": \"#506784\", \"linecolor\": \"#506784\", \"ticks\": \"\"}, \"baxis\": {\"gridcolor\": \"#506784\", \"linecolor\": \"#506784\", \"ticks\": \"\"}, \"bgcolor\": \"rgb(17,17,17)\", \"caxis\": {\"gridcolor\": \"#506784\", \"linecolor\": \"#506784\", \"ticks\": \"\"}}, \"title\": {\"x\": 0.05}, \"updatemenudefaults\": {\"bgcolor\": \"#506784\", \"borderwidth\": 0}, \"xaxis\": {\"automargin\": true, \"gridcolor\": \"#283442\", \"linecolor\": \"#506784\", \"ticks\": \"\", \"title\": {\"standoff\": 15}, \"zerolinecolor\": \"#283442\", \"zerolinewidth\": 2}, \"yaxis\": {\"automargin\": true, \"gridcolor\": \"#283442\", \"linecolor\": \"#506784\", \"ticks\": \"\", \"title\": {\"standoff\": 15}, \"zerolinecolor\": \"#283442\", \"zerolinewidth\": 2}}}, \"xaxis\": {\"linecolor\": \"white\", \"linewidth\": 2, \"showgrid\": true, \"showline\": true, \"showticklabels\": false}, \"yaxis\": {\"linecolor\": \"white\", \"linewidth\": 2, \"showgrid\": true, \"showline\": true, \"showticklabels\": true, \"tickfont\": {\"color\": \"white\", \"family\": \"Rockwell\", \"size\": 12}, \"ticks\": \"outside\", \"title\": {\"font\": {\"color\": \"white\", \"family\": \"Rockwell\", \"size\": 12}, \"text\": \"Close (USD)\"}}},\n",
              "                        {\"responsive\": true}\n",
              "                    ).then(function(){\n",
              "                            \n",
              "var gd = document.getElementById('a4459494-2e15-4922-9c5a-76cd8cf2cffc');\n",
              "var x = new MutationObserver(function (mutations, observer) {{\n",
              "        var display = window.getComputedStyle(gd).display;\n",
              "        if (!display || display === 'none') {{\n",
              "            console.log([gd, 'removed!']);\n",
              "            Plotly.purge(gd);\n",
              "            observer.disconnect();\n",
              "        }}\n",
              "}});\n",
              "\n",
              "// Listen for the removal of the full notebook cells\n",
              "var notebookContainer = gd.closest('#notebook-container');\n",
              "if (notebookContainer) {{\n",
              "    x.observe(notebookContainer, {childList: true});\n",
              "}}\n",
              "\n",
              "// Listen for the clearing of the current output cell\n",
              "var outputEl = gd.closest('.output');\n",
              "if (outputEl) {{\n",
              "    x.observe(outputEl, {childList: true});\n",
              "}}\n",
              "\n",
              "                        })\n",
              "                };\n",
              "                \n",
              "            </script>\n",
              "        </div>\n",
              "</body>\n",
              "</html>"
            ]
          },
          "metadata": {}
        }
      ]
    },
    {
      "cell_type": "code",
      "metadata": {
        "id": "eZoqfjIHYD6a"
      },
      "source": [
        ""
      ],
      "execution_count": null,
      "outputs": []
    },
    {
      "cell_type": "code",
      "metadata": {
        "id": "wEE_bBB_YD91"
      },
      "source": [
        ""
      ],
      "execution_count": null,
      "outputs": []
    },
    {
      "cell_type": "code",
      "metadata": {
        "id": "2oWtw55hYEA2"
      },
      "source": [
        ""
      ],
      "execution_count": null,
      "outputs": []
    },
    {
      "cell_type": "code",
      "metadata": {
        "id": "05WLyYZsdtVe"
      },
      "source": [
        ""
      ],
      "execution_count": null,
      "outputs": []
    },
    {
      "cell_type": "code",
      "metadata": {
        "id": "9yrmOkR-YEEy"
      },
      "source": [
        ""
      ],
      "execution_count": null,
      "outputs": []
    },
    {
      "cell_type": "code",
      "metadata": {
        "id": "U99dMJatYEIa"
      },
      "source": [
        ""
      ],
      "execution_count": null,
      "outputs": []
    },
    {
      "cell_type": "code",
      "metadata": {
        "id": "OdOupavaYELm"
      },
      "source": [
        ""
      ],
      "execution_count": null,
      "outputs": []
    },
    {
      "cell_type": "code",
      "metadata": {
        "id": "rRjoM_jNYEO-"
      },
      "source": [
        ""
      ],
      "execution_count": null,
      "outputs": []
    },
    {
      "cell_type": "code",
      "metadata": {
        "id": "8apYK5H4YESW"
      },
      "source": [
        ""
      ],
      "execution_count": null,
      "outputs": []
    },
    {
      "cell_type": "code",
      "metadata": {
        "id": "YcRcCOrjYEg6"
      },
      "source": [
        ""
      ],
      "execution_count": null,
      "outputs": []
    },
    {
      "cell_type": "code",
      "metadata": {
        "id": "9hWia8m_YFFw"
      },
      "source": [
        ""
      ],
      "execution_count": null,
      "outputs": []
    },
    {
      "cell_type": "code",
      "metadata": {
        "id": "imzqFOZAYFJm"
      },
      "source": [
        ""
      ],
      "execution_count": null,
      "outputs": []
    },
    {
      "cell_type": "code",
      "metadata": {
        "id": "wU6m7hd2YFNc"
      },
      "source": [
        ""
      ],
      "execution_count": null,
      "outputs": []
    },
    {
      "cell_type": "code",
      "metadata": {
        "id": "XYAYiZb7YFQ7"
      },
      "source": [
        ""
      ],
      "execution_count": null,
      "outputs": []
    },
    {
      "cell_type": "code",
      "metadata": {
        "id": "fo-MlhIeYFVQ"
      },
      "source": [
        ""
      ],
      "execution_count": null,
      "outputs": []
    },
    {
      "cell_type": "code",
      "metadata": {
        "id": "2zI2k__fYFY8"
      },
      "source": [
        ""
      ],
      "execution_count": null,
      "outputs": []
    },
    {
      "cell_type": "code",
      "metadata": {
        "id": "Ass02txoYFdj"
      },
      "source": [
        ""
      ],
      "execution_count": null,
      "outputs": []
    },
    {
      "cell_type": "code",
      "metadata": {
        "id": "33b9LskXYFiH"
      },
      "source": [
        ""
      ],
      "execution_count": null,
      "outputs": []
    },
    {
      "cell_type": "code",
      "metadata": {
        "id": "_NbYCYJgM7uc"
      },
      "source": [
        ""
      ],
      "execution_count": null,
      "outputs": []
    },
    {
      "cell_type": "code",
      "metadata": {
        "id": "__bK0MkQM70A"
      },
      "source": [
        ""
      ],
      "execution_count": null,
      "outputs": []
    },
    {
      "cell_type": "code",
      "metadata": {
        "id": "_eqNNgTKM74n"
      },
      "source": [
        ""
      ],
      "execution_count": null,
      "outputs": []
    },
    {
      "cell_type": "code",
      "metadata": {
        "id": "qj1fJpkbM78O"
      },
      "source": [
        ""
      ],
      "execution_count": null,
      "outputs": []
    },
    {
      "cell_type": "code",
      "metadata": {
        "id": "DrRksAkUM8AH"
      },
      "source": [
        ""
      ],
      "execution_count": null,
      "outputs": []
    },
    {
      "cell_type": "code",
      "metadata": {
        "id": "WQWywpJDM8D1"
      },
      "source": [
        ""
      ],
      "execution_count": null,
      "outputs": []
    },
    {
      "cell_type": "code",
      "metadata": {
        "id": "HIkY966ZM8HO"
      },
      "source": [
        ""
      ],
      "execution_count": null,
      "outputs": []
    },
    {
      "cell_type": "code",
      "metadata": {
        "id": "W7ltkDfLM8LO"
      },
      "source": [
        ""
      ],
      "execution_count": null,
      "outputs": []
    },
    {
      "cell_type": "code",
      "metadata": {
        "id": "6EylJRNpM8Pb"
      },
      "source": [
        ""
      ],
      "execution_count": null,
      "outputs": []
    },
    {
      "cell_type": "code",
      "metadata": {
        "id": "U0e3EQ65M8TK"
      },
      "source": [
        ""
      ],
      "execution_count": null,
      "outputs": []
    },
    {
      "cell_type": "code",
      "metadata": {
        "id": "6lpGIWqlM8XB"
      },
      "source": [
        ""
      ],
      "execution_count": null,
      "outputs": []
    },
    {
      "cell_type": "code",
      "metadata": {
        "id": "fSxX6bYzM8aN"
      },
      "source": [
        ""
      ],
      "execution_count": null,
      "outputs": []
    },
    {
      "cell_type": "code",
      "metadata": {
        "id": "xUt-7Zx6M8dg"
      },
      "source": [
        ""
      ],
      "execution_count": null,
      "outputs": []
    },
    {
      "cell_type": "code",
      "metadata": {
        "id": "yYdoAoWbM8gy"
      },
      "source": [
        ""
      ],
      "execution_count": null,
      "outputs": []
    },
    {
      "cell_type": "code",
      "metadata": {
        "id": "JMNz_pPWM8kD"
      },
      "source": [
        ""
      ],
      "execution_count": null,
      "outputs": []
    },
    {
      "cell_type": "code",
      "metadata": {
        "id": "Ab8mB9t0M8nd"
      },
      "source": [
        ""
      ],
      "execution_count": null,
      "outputs": []
    },
    {
      "cell_type": "code",
      "metadata": {
        "id": "beahdhJKM8sK"
      },
      "source": [
        ""
      ],
      "execution_count": null,
      "outputs": []
    },
    {
      "cell_type": "code",
      "metadata": {
        "id": "iEJ2Q461M8vg"
      },
      "source": [
        ""
      ],
      "execution_count": null,
      "outputs": []
    },
    {
      "cell_type": "code",
      "metadata": {
        "id": "DoSEoyqKM8yx"
      },
      "source": [
        ""
      ],
      "execution_count": null,
      "outputs": []
    }
  ]
}